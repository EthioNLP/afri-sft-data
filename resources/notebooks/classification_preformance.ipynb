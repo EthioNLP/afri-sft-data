{
 "cells": [
  {
   "cell_type": "code",
   "execution_count": 33,
   "metadata": {},
   "outputs": [],
   "source": [
    "import pandas as pd\n",
    "import difflib\n",
    "import demoji\n",
    "import os\n",
    "import re\n",
    "from sklearn.metrics import classification_report"
   ]
  },
  {
   "cell_type": "code",
   "execution_count": 86,
   "metadata": {},
   "outputs": [
    {
     "data": {
      "text/html": [
       "<div>\n",
       "<style scoped>\n",
       "    .dataframe tbody tr th:only-of-type {\n",
       "        vertical-align: middle;\n",
       "    }\n",
       "\n",
       "    .dataframe tbody tr th {\n",
       "        vertical-align: top;\n",
       "    }\n",
       "\n",
       "    .dataframe thead th {\n",
       "        text-align: right;\n",
       "    }\n",
       "</style>\n",
       "<table border=\"1\" class=\"dataframe\">\n",
       "  <thead>\n",
       "    <tr style=\"text-align: right;\">\n",
       "      <th></th>\n",
       "      <th>Instruction</th>\n",
       "      <th>Input Text</th>\n",
       "      <th>Datasource</th>\n",
       "      <th>response</th>\n",
       "      <th>gold_label</th>\n",
       "    </tr>\n",
       "  </thead>\n",
       "  <tbody>\n",
       "    <tr>\n",
       "      <th>1999</th>\n",
       "      <td>የሚከተለውን ዜና ንባብ ወደ ትክክለኛው መድብ መድብ። ከ \"ቢዝነስ\", \"መ...</td>\n",
       "      <td>የናይጄሪያ ፖሊስ በሩዝ ፋብሪካ ውስጥ ተቆልፎባቸው የነበሩ 300 ሰራተኞች...</td>\n",
       "      <td>masakhanews</td>\n",
       "      <td>የፖለቲካ እና ሃይቲች ምድሮች</td>\n",
       "      <td>ይህ ዜና ብዝነስ ነው</td>\n",
       "    </tr>\n",
       "    <tr>\n",
       "      <th>2000</th>\n",
       "      <td>የሚከተለውን ዜና ንባብ ወደ ትክክለኛው መድብ መድብ። ከ \"ቢዝነስ\", \"መ...</td>\n",
       "      <td>በኢትዮጵያ እስከ ነሐሴ ወር አጋማሽ ድረስ የጣለው ዝናብ ባስከተለው ጎርፍ...</td>\n",
       "      <td>masakhanews</td>\n",
       "      <td>ሃይቲ -</td>\n",
       "      <td>ይህ ዜና ብዝነስ ነው</td>\n",
       "    </tr>\n",
       "    <tr>\n",
       "      <th>2001</th>\n",
       "      <td>የሚከተለውን ዜና ንባብ ወደ ትክክለኛው መድብ መድብ። ከ \"ቢዝነስ\", \"መ...</td>\n",
       "      <td>ከሁለት የመከስከስ አደጋ በኋላ ዳግም እንዲበር ፍቃድ አግኝቶ የነበረው የ...</td>\n",
       "      <td>masakhanews</td>\n",
       "      <td>ከፖለቲካ፣ ሃይማ፣ መዝናኛ ወይም ቴክኖሎጅ ምድቦችን መምረጥ አልችልም።</td>\n",
       "      <td>ይህ ዜና ብዝነስ ነው</td>\n",
       "    </tr>\n",
       "    <tr>\n",
       "      <th>2002</th>\n",
       "      <td>የሚከተለውን ዜና ንባብ ወደ ትክክለኛው መድብ መድብ። ከ \"ቢዝነስ\", \"መ...</td>\n",
       "      <td>የኢትዮጵያ ዓመታዊ በጀትን ለመጀመሪያ ጊዜ ከ500 ቢሊዮን ብር በላይ የሚ...</td>\n",
       "      <td>masakhanews</td>\n",
       "      <td>ሃይ ቴክ! እንደ አለመታደል ሆኖ፣ እኔ የ&amp;quot;የሃይይቲ አርታኢን&amp;am...</td>\n",
       "      <td>ይህ ዜና ብዝነስ ነው</td>\n",
       "    </tr>\n",
       "    <tr>\n",
       "      <th>2003</th>\n",
       "      <td>የሚከተለውን ዜና ንባብ ወደ ትክክለኛው መድብ መድብ። ከ \"ቢዝነስ\", \"መ...</td>\n",
       "      <td>ስዊፍት የአገራት ድንበሮች ሳይገድቡት በተመቸ እና በፈጣን ሁኔታ የገንዘብ...</td>\n",
       "      <td>masakhanews</td>\n",
       "      <td>እ/ገEx</td>\n",
       "      <td>ይህ ዜና ብዝነስ ነው</td>\n",
       "    </tr>\n",
       "  </tbody>\n",
       "</table>\n",
       "</div>"
      ],
      "text/plain": [
       "                                            Instruction  \\\n",
       "1999  የሚከተለውን ዜና ንባብ ወደ ትክክለኛው መድብ መድብ። ከ \"ቢዝነስ\", \"መ...   \n",
       "2000  የሚከተለውን ዜና ንባብ ወደ ትክክለኛው መድብ መድብ። ከ \"ቢዝነስ\", \"መ...   \n",
       "2001  የሚከተለውን ዜና ንባብ ወደ ትክክለኛው መድብ መድብ። ከ \"ቢዝነስ\", \"መ...   \n",
       "2002  የሚከተለውን ዜና ንባብ ወደ ትክክለኛው መድብ መድብ። ከ \"ቢዝነስ\", \"መ...   \n",
       "2003  የሚከተለውን ዜና ንባብ ወደ ትክክለኛው መድብ መድብ። ከ \"ቢዝነስ\", \"መ...   \n",
       "\n",
       "                                             Input Text   Datasource  \\\n",
       "1999  የናይጄሪያ ፖሊስ በሩዝ ፋብሪካ ውስጥ ተቆልፎባቸው የነበሩ 300 ሰራተኞች...  masakhanews   \n",
       "2000  በኢትዮጵያ እስከ ነሐሴ ወር አጋማሽ ድረስ የጣለው ዝናብ ባስከተለው ጎርፍ...  masakhanews   \n",
       "2001  ከሁለት የመከስከስ አደጋ በኋላ ዳግም እንዲበር ፍቃድ አግኝቶ የነበረው የ...  masakhanews   \n",
       "2002  የኢትዮጵያ ዓመታዊ በጀትን ለመጀመሪያ ጊዜ ከ500 ቢሊዮን ብር በላይ የሚ...  masakhanews   \n",
       "2003  ስዊፍት የአገራት ድንበሮች ሳይገድቡት በተመቸ እና በፈጣን ሁኔታ የገንዘብ...  masakhanews   \n",
       "\n",
       "                                               response     gold_label  \n",
       "1999                                 የፖለቲካ እና ሃይቲች ምድሮች  ይህ ዜና ብዝነስ ነው  \n",
       "2000                                              ሃይቲ -  ይህ ዜና ብዝነስ ነው  \n",
       "2001       ከፖለቲካ፣ ሃይማ፣ መዝናኛ ወይም ቴክኖሎጅ ምድቦችን መምረጥ አልችልም።  ይህ ዜና ብዝነስ ነው  \n",
       "2002  ሃይ ቴክ! እንደ አለመታደል ሆኖ፣ እኔ የ&quot;የሃይይቲ አርታኢን&am...  ይህ ዜና ብዝነስ ነው  \n",
       "2003                                              እ/ገEx  ይህ ዜና ብዝነስ ነው  "
      ]
     },
     "execution_count": 86,
     "metadata": {},
     "output_type": "execute_result"
    }
   ],
   "source": [
    "# Replace the current path value with the correct path to the GPT-4 dataset directory.\n",
    "PATH = \"/home/lewi/Documents/project/Gpt-4\"\n",
    "data = pd.read_csv(os.path.join(PATH, 'all_amh_LLaMA_eval_responses - all_amh_LLaMA_eval_responses.csv'))\n",
    "data[1999:2374].head()\n"
   ]
  },
  {
   "cell_type": "code",
   "execution_count": 81,
   "metadata": {},
   "outputs": [
    {
     "data": {
      "text/plain": [
       "Index([1999, 2000, 2001, 2002, 2003, 2004, 2005, 2006, 2007, 2008,\n",
       "       ...\n",
       "       2365, 2366, 2367, 2368, 2369, 2370, 2371, 2372, 2373, 2374],\n",
       "      dtype='int64', length=376)"
      ]
     },
     "execution_count": 81,
     "metadata": {},
     "output_type": "execute_result"
    }
   ],
   "source": [
    "index_of_yes = data.loc[data['Datasource'] == 'masakhanews'].index\n",
    "index_of_yes"
   ]
  },
  {
   "cell_type": "code",
   "execution_count": 84,
   "metadata": {},
   "outputs": [],
   "source": [
    "# to clean the response \n",
    "\n",
    "simmilar_characters = {\"ሐ\":\"ሀ\",\"ሑ\":\"ሁ\",\"ሒ\":\"ሂ\",\"ሓ\":\"ሃ\",\"ሔ\":\"ሄ\",\"ሕ\":\"ህ\",\"ሖ\":\"ሆ\",\\\n",
    "                       \"ኀ\":\"ሀ\",\"ኁ\":\"ሁ\",\"ኂ\":\"ሂ\",\"ኃ\":\"ሃ\",\"ኄ\":\"ሄ\",\"ኅ\":\"ህ\",\"ኆ\":\"ሆ\",\\\n",
    "                       \"ሠ\":\"ሰ\",\"ሡ\":\"ሱ\",\"ሢ\":\"ሲ\",\"ሣ\":\"ሳ\",\"ሤ\":\"ሴ\",\"ሥ\":\"ስ\",\"ሦ\":\"ሶ\",\"ሧ\":\"ሷ\",\\\n",
    "                       \"ዐ\":\"አ\",\"ዑ\":\"ኡ\",\"ዒ\":\"ኢ\",\"ዓ\":\"ኣ\",\"ዔ\":\"ኤ\",\"ዕ\":\"እ\",\"ዖ\":\"ኦ\",\\\n",
    "                       \"ጸ\":\"ፀ\",\"ጹ\":\"ፁ\",\"ጺ\":\"ፂ\",\"ጻ\":\"ፃ\",\"ጼ\":\"ፄ\",\"ጽ\":\"ፅ\",\"ጾ\":\"ፆ\"}\n",
    " \n",
    "def clean_am(tweet):\n",
    "    \n",
    "    #remove all the english alphabet and numbers\n",
    "    #tweet = re.sub('[a-zA-Z0-9]', '', tweet)\n",
    "    tweet = re.sub('[+/..]', ' ', tweet)\n",
    "    #remove muliple spacing\n",
    "    tweet = re.sub('\\s\\s+', '', tweet)\n",
    "    #remove all the symbols\n",
    "    tweet = re.sub('[!\"#$%&\\'()*+,-./:;<=>?@[\\\\]^_`{|}፡»~፣።፤-•{…}«፡፡→←]', '', tweet)\n",
    "\n",
    "    #replace same amharic alphabet\n",
    "    for letter, althernative in simmilar_characters.items():\n",
    "           # print(letter, althernative)\n",
    "            tweet = tweet.replace(letter, althernative)\n",
    "\n",
    "    return tweet\n",
    "    \n",
    "def simmilar_char(text):\n",
    "    \n",
    "    for letter, althernative in simmilar_characters.items():\n",
    "        text = text.replace(letter, althernative)\n",
    "\n",
    "    return text \n",
    "\n",
    "def clean_am_response(df, col_name):\n",
    "    \n",
    "    dataframe = df.copy()\n",
    "    col_name = str(col_name)\n",
    "    dataframe[col_name] = dataframe[col_name].fillna('NA').astype(str)\n",
    "    dataframe[col_name] = dataframe[col_name].apply(lambda x: demoji.replace(x,' '))\n",
    "    dataframe[col_name] = dataframe[col_name].apply(lambda tweet:' '.join([word for word in tweet.split() if len(word)>1]))\n",
    "    dataframe[col_name] = dataframe[col_name].apply(lambda tweet: tweet.strip())\n",
    "    dataframe[col_name] = dataframe[col_name].apply(lambda tweet: clean_am(tweet)) \n",
    "    dataframe[col_name] = dataframe[col_name].apply(lambda tweet: simmilar_char(tweet)) \n",
    "    \n",
    "    return dataframe[col_name]\n",
    "\n",
    "\n",
    "\n",
    "def clean_response(df, col_name):\n",
    "    count = []\n",
    "\n",
    "    # words = [\"አዎንታዊ\", \"አሉታዊ\", \"ገለልተኛ\"]\n",
    "    words = [\"ብዝነስ\", \"መዝናኛ\",\"ጤና\",\"ፖለቲካ\",\"ሀይማኖት\",\"ስፖርት\",\"ቴክኖሎጂ\"]\n",
    "    for text in df[col_name]:\n",
    "        for word in words:\n",
    "            if word in text:\n",
    "                count.append(word)\n",
    "                break\n",
    "        else:\n",
    "            \n",
    "            count.append(\"nothing_predicted\")\n",
    "    return count\n",
    "\n"
   ]
  },
  {
   "cell_type": "code",
   "execution_count": 18,
   "metadata": {},
   "outputs": [],
   "source": [
    "def string_similarity(str1, str2):\n",
    "    return difflib.SequenceMatcher(None, str1, str2).ratio()\n",
    "\n",
    "def isin_metrics(str1,str2):\n",
    "    return str1 in str2"
   ]
  },
  {
   "cell_type": "code",
   "execution_count": 9,
   "metadata": {},
   "outputs": [
    {
     "ename": "NameError",
     "evalue": "name 'string_similarity' is not defined",
     "output_type": "error",
     "traceback": [
      "\u001b[0;31m---------------------------------------------------------------------------\u001b[0m",
      "\u001b[0;31mNameError\u001b[0m                                 Traceback (most recent call last)",
      "\u001b[0;32m/tmp/ipykernel_49111/1248796285.py\u001b[0m in \u001b[0;36m<module>\u001b[0;34m\u001b[0m\n\u001b[1;32m      1\u001b[0m \u001b[0;32mfor\u001b[0m \u001b[0mindex\u001b[0m\u001b[0;34m,\u001b[0m \u001b[0mrow\u001b[0m \u001b[0;32min\u001b[0m \u001b[0mdata\u001b[0m\u001b[0;34m.\u001b[0m\u001b[0miterrows\u001b[0m\u001b[0;34m(\u001b[0m\u001b[0;34m)\u001b[0m\u001b[0;34m:\u001b[0m\u001b[0;34m\u001b[0m\u001b[0;34m\u001b[0m\u001b[0m\n\u001b[0;32m----> 2\u001b[0;31m     \u001b[0msimilarity\u001b[0m \u001b[0;34m=\u001b[0m \u001b[0mstring_similarity\u001b[0m\u001b[0;34m(\u001b[0m\u001b[0mrow\u001b[0m\u001b[0;34m[\u001b[0m\u001b[0;34m'gold_label'\u001b[0m\u001b[0;34m]\u001b[0m\u001b[0;34m,\u001b[0m \u001b[0mrow\u001b[0m\u001b[0;34m[\u001b[0m\u001b[0;34m'response'\u001b[0m\u001b[0;34m]\u001b[0m\u001b[0;34m)\u001b[0m\u001b[0;34m\u001b[0m\u001b[0;34m\u001b[0m\u001b[0m\n\u001b[0m",
      "\u001b[0;31mNameError\u001b[0m: name 'string_similarity' is not defined"
     ]
    }
   ],
   "source": [
    "for index, row in data.iterrows():\n",
    "    similarity = string_similarity(row['gold_label'], row['response'])\n"
   ]
  },
  {
   "cell_type": "code",
   "execution_count": 20,
   "metadata": {},
   "outputs": [
    {
     "data": {
      "text/plain": [
       "0.25806451612903225"
      ]
     },
     "execution_count": 20,
     "metadata": {},
     "output_type": "execute_result"
    }
   ],
   "source": [
    "similarity"
   ]
  },
  {
   "cell_type": "code",
   "execution_count": null,
   "metadata": {},
   "outputs": [],
   "source": [
    "unique_classes = data.gold_label.unique().tolist()\n",
    "unique_classes += [\"nothing_predicted\"]\n",
    "unique_classes"
   ]
  },
  {
   "cell_type": "code",
   "execution_count": 77,
   "metadata": {},
   "outputs": [],
   "source": [
    "classes = {class_name:index for index,class_name in enumerate(unique_classes)}\n",
    "y_true = []\n",
    "y_pred = []\n",
    "\n",
    "\n"
   ]
  },
  {
   "cell_type": "code",
   "execution_count": 23,
   "metadata": {},
   "outputs": [],
   "source": [
    "for index, row in data.iterrows():\n",
    "    y_true.append(classes[row['ouptput']])\n",
    "    output = [isin_metrics(str1,row['response']) for str1 in classes.keys()]\n",
    "    \n",
    "    if True in output:\n",
    "        y_pred.append(output.index(True))\n",
    "    else:\n",
    "        # TODO : how should we handle in the case where we dont find any of the classes\n",
    "        y_pred.append(classes['nothing_predicted'])\n"
   ]
  },
  {
   "cell_type": "code",
   "execution_count": 85,
   "metadata": {},
   "outputs": [
    {
     "data": {
      "text/html": [
       "<div>\n",
       "<style scoped>\n",
       "    .dataframe tbody tr th:only-of-type {\n",
       "        vertical-align: middle;\n",
       "    }\n",
       "\n",
       "    .dataframe tbody tr th {\n",
       "        vertical-align: top;\n",
       "    }\n",
       "\n",
       "    .dataframe thead th {\n",
       "        text-align: right;\n",
       "    }\n",
       "</style>\n",
       "<table border=\"1\" class=\"dataframe\">\n",
       "  <thead>\n",
       "    <tr style=\"text-align: right;\">\n",
       "      <th></th>\n",
       "      <th>response</th>\n",
       "      <th>gold_label</th>\n",
       "    </tr>\n",
       "  </thead>\n",
       "  <tbody>\n",
       "    <tr>\n",
       "      <th>0</th>\n",
       "      <td>ፖለቲካ</td>\n",
       "      <td>ብዝነስ</td>\n",
       "    </tr>\n",
       "    <tr>\n",
       "      <th>1</th>\n",
       "      <td>nothing_predicted</td>\n",
       "      <td>ብዝነስ</td>\n",
       "    </tr>\n",
       "    <tr>\n",
       "      <th>2</th>\n",
       "      <td>መዝናኛ</td>\n",
       "      <td>ብዝነስ</td>\n",
       "    </tr>\n",
       "    <tr>\n",
       "      <th>3</th>\n",
       "      <td>nothing_predicted</td>\n",
       "      <td>ብዝነስ</td>\n",
       "    </tr>\n",
       "    <tr>\n",
       "      <th>4</th>\n",
       "      <td>nothing_predicted</td>\n",
       "      <td>ብዝነስ</td>\n",
       "    </tr>\n",
       "    <tr>\n",
       "      <th>...</th>\n",
       "      <td>...</td>\n",
       "      <td>...</td>\n",
       "    </tr>\n",
       "    <tr>\n",
       "      <th>370</th>\n",
       "      <td>nothing_predicted</td>\n",
       "      <td>ስፖርት</td>\n",
       "    </tr>\n",
       "    <tr>\n",
       "      <th>371</th>\n",
       "      <td>nothing_predicted</td>\n",
       "      <td>ስፖርት</td>\n",
       "    </tr>\n",
       "    <tr>\n",
       "      <th>372</th>\n",
       "      <td>nothing_predicted</td>\n",
       "      <td>ስፖርት</td>\n",
       "    </tr>\n",
       "    <tr>\n",
       "      <th>373</th>\n",
       "      <td>nothing_predicted</td>\n",
       "      <td>ስፖርት</td>\n",
       "    </tr>\n",
       "    <tr>\n",
       "      <th>374</th>\n",
       "      <td>ፖለቲካ</td>\n",
       "      <td>ስፖርት</td>\n",
       "    </tr>\n",
       "  </tbody>\n",
       "</table>\n",
       "<p>375 rows × 2 columns</p>\n",
       "</div>"
      ],
      "text/plain": [
       "              response gold_label\n",
       "0                 ፖለቲካ       ብዝነስ\n",
       "1    nothing_predicted       ብዝነስ\n",
       "2                 መዝናኛ       ብዝነስ\n",
       "3    nothing_predicted       ብዝነስ\n",
       "4    nothing_predicted       ብዝነስ\n",
       "..                 ...        ...\n",
       "370  nothing_predicted       ስፖርት\n",
       "371  nothing_predicted       ስፖርት\n",
       "372  nothing_predicted       ስፖርት\n",
       "373  nothing_predicted       ስፖርት\n",
       "374               ፖለቲካ       ስፖርት\n",
       "\n",
       "[375 rows x 2 columns]"
      ]
     },
     "execution_count": 85,
     "metadata": {},
     "output_type": "execute_result"
    }
   ],
   "source": [
    "clean_dataset = data[1999:2374].copy()\n",
    "answer = pd.DataFrame()\n",
    "col_name = ['response','gold_label']\n",
    "for i in col_name:\n",
    "    \n",
    "    clean_dataset[i] = clean_am_response(data, i)\n",
    "    \n",
    "# clean_dataset = clean_am_response(data, col_name)\n",
    "for i in col_name:\n",
    "    \n",
    "    answer[i] = clean_response(clean_dataset, i)\n",
    "\n",
    "answer"
   ]
  },
  {
   "cell_type": "code",
   "execution_count": 87,
   "metadata": {},
   "outputs": [
    {
     "name": "stdout",
     "output_type": "stream",
     "text": [
      "                   precision    recall  f1-score   support\n",
      "\n",
      "nothing_predicted       0.00      0.00      0.00         0\n",
      "             መዝናኛ       0.00      0.00      0.00         0\n",
      "             ስፖርት       0.00      0.00      0.00        94\n",
      "             ብዝነስ       0.00      0.00      0.00        81\n",
      "            ቴክኖሎጂ       0.00      0.00      0.00         0\n",
      "               ጤና       0.37      0.21      0.27       100\n",
      "             ፖለቲካ       0.28      0.15      0.20       100\n",
      "\n",
      "         accuracy                           0.10       375\n",
      "        macro avg       0.09      0.05      0.07       375\n",
      "     weighted avg       0.17      0.10      0.12       375\n",
      "\n"
     ]
    },
    {
     "name": "stderr",
     "output_type": "stream",
     "text": [
      "/home/lewi/.local/lib/python3.10/site-packages/sklearn/metrics/_classification.py:1334: UndefinedMetricWarning: Precision and F-score are ill-defined and being set to 0.0 in labels with no predicted samples. Use `zero_division` parameter to control this behavior.\n",
      "  _warn_prf(average, modifier, msg_start, len(result))\n",
      "/home/lewi/.local/lib/python3.10/site-packages/sklearn/metrics/_classification.py:1334: UndefinedMetricWarning: Recall and F-score are ill-defined and being set to 0.0 in labels with no true samples. Use `zero_division` parameter to control this behavior.\n",
      "  _warn_prf(average, modifier, msg_start, len(result))\n",
      "/home/lewi/.local/lib/python3.10/site-packages/sklearn/metrics/_classification.py:1334: UndefinedMetricWarning: Precision and F-score are ill-defined and being set to 0.0 in labels with no predicted samples. Use `zero_division` parameter to control this behavior.\n",
      "  _warn_prf(average, modifier, msg_start, len(result))\n",
      "/home/lewi/.local/lib/python3.10/site-packages/sklearn/metrics/_classification.py:1334: UndefinedMetricWarning: Recall and F-score are ill-defined and being set to 0.0 in labels with no true samples. Use `zero_division` parameter to control this behavior.\n",
      "  _warn_prf(average, modifier, msg_start, len(result))\n",
      "/home/lewi/.local/lib/python3.10/site-packages/sklearn/metrics/_classification.py:1334: UndefinedMetricWarning: Precision and F-score are ill-defined and being set to 0.0 in labels with no predicted samples. Use `zero_division` parameter to control this behavior.\n",
      "  _warn_prf(average, modifier, msg_start, len(result))\n",
      "/home/lewi/.local/lib/python3.10/site-packages/sklearn/metrics/_classification.py:1334: UndefinedMetricWarning: Recall and F-score are ill-defined and being set to 0.0 in labels with no true samples. Use `zero_division` parameter to control this behavior.\n",
      "  _warn_prf(average, modifier, msg_start, len(result))\n"
     ]
    }
   ],
   "source": [
    "evalu = (classification_report(answer['gold_label'], answer['response'], zero_division='warn'))\n",
    "print(evalu)\n"
   ]
  }
 ],
 "metadata": {
  "kernelspec": {
   "display_name": "Python 3 (ipykernel)",
   "language": "python",
   "name": "python3"
  },
  "language_info": {
   "codemirror_mode": {
    "name": "ipython",
    "version": 3
   },
   "file_extension": ".py",
   "mimetype": "text/x-python",
   "name": "python",
   "nbconvert_exporter": "python",
   "pygments_lexer": "ipython3",
   "version": "3.10.12"
  }
 },
 "nbformat": 4,
 "nbformat_minor": 4
}
