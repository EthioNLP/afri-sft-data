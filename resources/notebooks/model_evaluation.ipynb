{
 "cells": [
  {
   "cell_type": "code",
   "execution_count": 1,
   "id": "be7c0cbc-8528-44cd-bbf3-926b19211d9a",
   "metadata": {},
   "outputs": [],
   "source": [
    "import datasets\n",
    "import openai\n",
    "import pandas as pd\n",
    "import time\n",
    "import os\n",
    "from datasets import Dataset\n",
    "from openai import OpenAI\n",
    "from tqdm import tqdm"
   ]
  },
  {
   "cell_type": "code",
   "execution_count": 2,
   "id": "956b9679-1168-40c9-819b-2f521a420cff",
   "metadata": {},
   "outputs": [],
   "source": [
    "hf_token = os.environ.get(\"HUGGING_FACE_TOKEN\")\n",
    "openai_api_key = os.environ.get(\"OPENAI_API_KEY\")\n",
    "\n",
    "client = OpenAI()"
   ]
  },
  {
   "cell_type": "code",
   "execution_count": 3,
   "id": "5bdaac13-88a9-472c-b25d-dd792e4b8d47",
   "metadata": {},
   "outputs": [
    {
     "name": "stderr",
     "output_type": "stream",
     "text": [
      "/Users/aman/opt/anaconda3/lib/python3.9/site-packages/datasets/load.py:2483: FutureWarning: 'use_auth_token' was deprecated in favor of 'token' in version 2.14.0 and will be removed in 3.0.0.\n",
      "You can remove this warning by passing 'token=<use_auth_token>' instead.\n",
      "  warnings.warn(\n"
     ]
    }
   ],
   "source": [
    "evaluation_data  = datasets.load_dataset(\"israel/JOPUjJHxWmI5xXf\", use_auth_token=hf_token)"
   ]
  },
  {
   "cell_type": "code",
   "execution_count": 4,
   "id": "035e8bba-8f2e-4782-add8-bfb67c51b674",
   "metadata": {},
   "outputs": [],
   "source": [
    "def query_gpt4(instruction, input_text):\n",
    "    response = client.chat.completions.create(\n",
    "        model=\"gpt-4\",\n",
    "        messages=[\n",
    "        {\"role\": \"user\", \"content\": f\"{instruction}\\n{input_text}\"}\n",
    "        ]\n",
    "    )\n",
    "    return response.choices[0].message.content.strip()"
   ]
  },
  {
   "cell_type": "code",
   "execution_count": 5,
   "id": "31e76f7b-e5f7-410d-8746-77e8ac7f13b2",
   "metadata": {},
   "outputs": [],
   "source": [
    "def save_to_csv(data, filename):\n",
    "    df = pd.DataFrame(data, columns=['instruction', 'input', 'output', 'datasource', 'response'])\n",
    "    df.to_csv(filename, index=False)"
   ]
  },
  {
   "cell_type": "code",
   "execution_count": 6,
   "id": "e8eb489f-cfcc-49d4-8daa-1e7bd0f130b0",
   "metadata": {},
   "outputs": [],
   "source": [
    "def evaluate(test_data, data_sources, output_dir='model_evaluation', sleep_duration=2, resume=False):\n",
    "    os.makedirs(output_dir, exist_ok=True)\n",
    "    data = []\n",
    "    start_index = 0\n",
    "    output_filename = os.path.join(output_dir, \"gpt4_responses.csv\")\n",
    "    \n",
    "    \n",
    "    if resume and os.path.exists(output_filename):\n",
    "        df = pd.read_csv(output_filename)\n",
    "        start_index = len(df)\n",
    "        data.extend(df.values.tolist())\n",
    "        print(f\"Resuming from Test Case {start_index + 1}\")\n",
    "        \n",
    "    datasource_data = test_data.filter(lambda example: example['datasource'] in data_sources)\n",
    "    \n",
    "    resume_data = datasource_data[start_index:]   \n",
    "    \n",
    "    for i, (\n",
    "        instruction,\n",
    "        input_text,\n",
    "        output_text,\n",
    "        data_source\n",
    "    ) in enumerate(\n",
    "        tqdm(\n",
    "            zip(\n",
    "                resume_data['instruction'],\n",
    "                resume_data['input'],\n",
    "                resume_data['output'],\n",
    "                resume_data['datasource']\n",
    "            ),\n",
    "            total=len(resume_data['input'])\n",
    "        )\n",
    "    ): \n",
    "  \n",
    "        try:\n",
    "            response = query_gpt4(instruction, input_text)\n",
    "            data.append([instruction, input_text, output_text, data_source, response])\n",
    "            save_to_csv(data, output_filename)\n",
    "        except Exception as e:\n",
    "            print(f\"API Error for {data_source} - Test Case {start_index + i + 1}: {str(e)}\")\n",
    "            break\n",
    "    \n",
    "        time.sleep(sleep_duration)  # Add a sleep to avoid API rate limits\n",
    "    \n",
    "    \n",
    "    print(f\"Saved responses to {output_filename}\")\n"
   ]
  },
  {
   "cell_type": "code",
   "execution_count": 7,
   "id": "a201e764-2197-41a3-be29-ad7247de2b47",
   "metadata": {},
   "outputs": [],
   "source": [
    "# sample_test = Dataset.from_dict(evaluation_data['test'][:2])"
   ]
  },
  {
   "cell_type": "code",
   "execution_count": 8,
   "id": "ece8f82a-2ab7-4725-a323-eab522dbf0af",
   "metadata": {},
   "outputs": [
    {
     "data": {
      "text/plain": [
       "['afrisent',\n",
       " 'masakhanews',\n",
       " 'masakhaner',\n",
       " 'xlsum',\n",
       " 'amharic_spellcheck',\n",
       " 'amharic_poem',\n",
       " 'amharic_zefen',\n",
       " 'amharic_story_generation',\n",
       " 'amharic_mezmur_completion',\n",
       " 'amharic_mezmur_generation',\n",
       " 'amharic_mt']"
      ]
     },
     "execution_count": 8,
     "metadata": {},
     "output_type": "execute_result"
    }
   ],
   "source": [
    "evaluation_data['test'].unique('datasource')"
   ]
  },
  {
   "cell_type": "code",
   "execution_count": 12,
   "id": "65293cae-0748-4933-999e-cfb936d805bd",
   "metadata": {},
   "outputs": [],
   "source": [
    "evaluate(evaluation_data['test'], ['afrisent','masakhanews'], resume=False)"
   ]
  },
  {
   "cell_type": "code",
   "execution_count": 10,
   "id": "a90b7e9d-46df-4d15-8e91-7df6e79843f2",
   "metadata": {},
   "outputs": [],
   "source": [
    "response_df = pd.read_csv('model_evaluation/gpt4_responses.csv')"
   ]
  },
  {
   "cell_type": "code",
   "execution_count": 11,
   "id": "4f1ce19d-a9e7-4116-b9b9-c139cd4a31fc",
   "metadata": {},
   "outputs": [
    {
     "data": {
      "text/html": [
       "<div>\n",
       "<style scoped>\n",
       "    .dataframe tbody tr th:only-of-type {\n",
       "        vertical-align: middle;\n",
       "    }\n",
       "\n",
       "    .dataframe tbody tr th {\n",
       "        vertical-align: top;\n",
       "    }\n",
       "\n",
       "    .dataframe thead th {\n",
       "        text-align: right;\n",
       "    }\n",
       "</style>\n",
       "<table border=\"1\" class=\"dataframe\">\n",
       "  <thead>\n",
       "    <tr style=\"text-align: right;\">\n",
       "      <th></th>\n",
       "      <th>instruction</th>\n",
       "      <th>input</th>\n",
       "      <th>output</th>\n",
       "      <th>datasource</th>\n",
       "      <th>response</th>\n",
       "    </tr>\n",
       "  </thead>\n",
       "  <tbody>\n",
       "    <tr>\n",
       "      <th>0</th>\n",
       "      <td>የተሰጠው ጽሑፍ አስተያየት ምን አይነት ነው? \"አዎንታዊ\"፣ \"አሉታዊ\" ወ...</td>\n",
       "      <td>'@user ክብር እና ምስጋና ለዓለማት ፈጣሪ ይሁን'</td>\n",
       "      <td>አዎንታዊ</td>\n",
       "      <td>afrisent</td>\n",
       "      <td>ይህ ጽሑፍ \"አዎንታዊ\" ማለት ነው. ምክንያቱም ሰውየው ያለውን ግለሰቦች ...</td>\n",
       "    </tr>\n",
       "    <tr>\n",
       "      <th>1</th>\n",
       "      <td>የተሰጠው ጽሑፍ አስተያየት ምን አይነት ነው? \"አዎንታዊ\"፣ \"አሉታዊ\" ወ...</td>\n",
       "      <td>'ከህወሓት ጋር ድርድር ማለት ኢትዮጲያን ማፍረስ ዕቁብ መጣል ነው። #No...</td>\n",
       "      <td>አሉታዊ</td>\n",
       "      <td>afrisent</td>\n",
       "      <td>ይህ አስተያየት \"አዎንታዊ\" ነው። ተናግሪው አስተያየቱ ማለት ህወሓት የኢ...</td>\n",
       "    </tr>\n",
       "    <tr>\n",
       "      <th>2</th>\n",
       "      <td>የተሰጠው ጽሑፍ አስተያየት ምን አይነት ነው? \"አዎንታዊ\"፣ \"አሉታዊ\" ወ...</td>\n",
       "      <td>'እግዚአብሔር የተመሰገነ ይሁን ኢትዮጵያ አሸነፈች ። እንኳን ደስአለኝ ።'</td>\n",
       "      <td>አዎንታዊ</td>\n",
       "      <td>afrisent</td>\n",
       "      <td>ይህ ጽሑፍ \"አዎንታዊ\" አስተያየት ነው።</td>\n",
       "    </tr>\n",
       "  </tbody>\n",
       "</table>\n",
       "</div>"
      ],
      "text/plain": [
       "                                         instruction  \\\n",
       "0  የተሰጠው ጽሑፍ አስተያየት ምን አይነት ነው? \"አዎንታዊ\"፣ \"አሉታዊ\" ወ...   \n",
       "1  የተሰጠው ጽሑፍ አስተያየት ምን አይነት ነው? \"አዎንታዊ\"፣ \"አሉታዊ\" ወ...   \n",
       "2  የተሰጠው ጽሑፍ አስተያየት ምን አይነት ነው? \"አዎንታዊ\"፣ \"አሉታዊ\" ወ...   \n",
       "\n",
       "                                               input output datasource  \\\n",
       "0                  '@user ክብር እና ምስጋና ለዓለማት ፈጣሪ ይሁን'  አዎንታዊ   afrisent   \n",
       "1  'ከህወሓት ጋር ድርድር ማለት ኢትዮጲያን ማፍረስ ዕቁብ መጣል ነው። #No...   አሉታዊ   afrisent   \n",
       "2    'እግዚአብሔር የተመሰገነ ይሁን ኢትዮጵያ አሸነፈች ። እንኳን ደስአለኝ ።'  አዎንታዊ   afrisent   \n",
       "\n",
       "                                            response  \n",
       "0  ይህ ጽሑፍ \"አዎንታዊ\" ማለት ነው. ምክንያቱም ሰውየው ያለውን ግለሰቦች ...  \n",
       "1  ይህ አስተያየት \"አዎንታዊ\" ነው። ተናግሪው አስተያየቱ ማለት ህወሓት የኢ...  \n",
       "2                          ይህ ጽሑፍ \"አዎንታዊ\" አስተያየት ነው።  "
      ]
     },
     "execution_count": 11,
     "metadata": {},
     "output_type": "execute_result"
    }
   ],
   "source": [
    "response_df"
   ]
  },
  {
   "cell_type": "code",
   "execution_count": null,
   "id": "afad5f16-495f-4d42-bd0e-3e73dfc32a0c",
   "metadata": {},
   "outputs": [],
   "source": []
  }
 ],
 "metadata": {
  "kernelspec": {
   "display_name": "Python 3 (ipykernel)",
   "language": "python",
   "name": "python3"
  },
  "language_info": {
   "codemirror_mode": {
    "name": "ipython",
    "version": 3
   },
   "file_extension": ".py",
   "mimetype": "text/x-python",
   "name": "python",
   "nbconvert_exporter": "python",
   "pygments_lexer": "ipython3",
   "version": "3.9.7"
  }
 },
 "nbformat": 4,
 "nbformat_minor": 5
}
