{
 "cells": [
  {
   "cell_type": "code",
   "execution_count": 1,
   "metadata": {},
   "outputs": [
    {
     "name": "stderr",
     "output_type": "stream",
     "text": [
      "/Users/israela/anaconda3/envs/orca/lib/python3.8/site-packages/tqdm/auto.py:21: TqdmWarning: IProgress not found. Please update jupyter and ipywidgets. See https://ipywidgets.readthedocs.io/en/stable/user_install.html\n",
      "  from .autonotebook import tqdm as notebook_tqdm\n"
     ]
    }
   ],
   "source": [
    "import nltk\n",
    "from nltk.translate.bleu_score import sentence_bleu\n",
    "from typing import List\n",
    "import pandas as pd\n",
    "import sacrebleu\n",
    "from rouge_score import rouge_scorer\n",
    "import evaluate\n",
    "rouge = evaluate.load('rouge')"
   ]
  },
  {
   "cell_type": "code",
   "execution_count": 2,
   "metadata": {},
   "outputs": [
    {
     "data": {
      "text/html": [
       "<div>\n",
       "<style scoped>\n",
       "    .dataframe tbody tr th:only-of-type {\n",
       "        vertical-align: middle;\n",
       "    }\n",
       "\n",
       "    .dataframe tbody tr th {\n",
       "        vertical-align: top;\n",
       "    }\n",
       "\n",
       "    .dataframe thead th {\n",
       "        text-align: right;\n",
       "    }\n",
       "</style>\n",
       "<table border=\"1\" class=\"dataframe\">\n",
       "  <thead>\n",
       "    <tr style=\"text-align: right;\">\n",
       "      <th></th>\n",
       "      <th>instruction</th>\n",
       "      <th>input</th>\n",
       "      <th>ouptput</th>\n",
       "      <th>datasource</th>\n",
       "      <th>response</th>\n",
       "    </tr>\n",
       "  </thead>\n",
       "  <tbody>\n",
       "    <tr>\n",
       "      <th>0</th>\n",
       "      <td>ለሚከተለውን ጽሑፍ ማጠቃለያ ስጥ።</td>\n",
       "      <td>የ28 አመቷ ሴት ስሟ እንዲገለጥ ያልተፈለገ ሲሆን ንቦቹ አይኗ ውሰጥ ሲገ...</td>\n",
       "      <td>በታይዋን ከአንዲት ሴት አይን ውስጥ ዶክተሮች አራት ንቦችን አወጡ። በደሴ...</td>\n",
       "      <td>xlsum_summerization</td>\n",
       "      <td>በሰው አይን ውስጥ ሕይወት በተዙ ንቦችን ጽሑፍ ስለመገመቱ ይናገራል። ከዚ...</td>\n",
       "    </tr>\n",
       "    <tr>\n",
       "      <th>1</th>\n",
       "      <td>ለሚከተለውን ጽሑፍ ማጠቃለያ ስጥ።</td>\n",
       "      <td>ፎቶ፡ GettyImages የአረና ፓርቲ ሊቀመንብር አቶ አብርሃ ደስታ በላ...</td>\n",
       "      <td>ከሰሞኑ ባለቤትነታቸው የአረና ትግራይ ፓርቲ አባል ናቸው የተባሉ አስራ ስ...</td>\n",
       "      <td>xlsum_summerization</td>\n",
       "      <td>የአረና ፓርቲ ሊቀመንበር አቶ አብርሃ ደስታ፣ ፓርቲውን አባል እንደሆኑ የ...</td>\n",
       "    </tr>\n",
       "    <tr>\n",
       "      <th>2</th>\n",
       "      <td>ለሚከተለውን ጽሑፍ ማጠቃለያ ስጥ።</td>\n",
       "      <td>ይህ በሚሊዮኖች ዘንድ ተወዳጅነት ያተረፈ ማሕበራዊ ድር-አምባ እንዴት የአ...</td>\n",
       "      <td>የአሜሪካው ፕሬዝደንት ዶናልድ ትራምፕ ቲክ ቶክ የተሰኘው የተንቀሳቃሽ ምስ...</td>\n",
       "      <td>xlsum_summerization</td>\n",
       "      <td>የአሜሪካ መንግሥት ጉዋዝ ዲፖርትምንት ገና ለቲክቶክን መ</td>\n",
       "    </tr>\n",
       "    <tr>\n",
       "      <th>3</th>\n",
       "      <td>ለሚከተለውን ጽሑፍ ማጠቃለያ ስጥ።</td>\n",
       "      <td>ሚኒስትሩን ዶ/ር ስለሺ በቀለን ዋቢ አድርገው የአገር ውስጥ ሚዲያዎች እን...</td>\n",
       "      <td>የታላቁ ሕዳሴ ግድብ የመጀመሪያ ምዕራፍ ውሃ ሙሌት መጀመሩን የውሃ፣ መስኖ...</td>\n",
       "      <td>xlsum_summerization</td>\n",
       "      <td>በዚህ አማራጭ የታዘዘ መሠረት የኢትዮጵያ የውሃ ሚኒስትሩ ዶ/ር ስለሺ በቀ...</td>\n",
       "    </tr>\n",
       "    <tr>\n",
       "      <th>4</th>\n",
       "      <td>ለሚከተለውን ጽሑፍ ማጠቃለያ ስጥ።</td>\n",
       "      <td>በ140 ሃገራት ውስጥ የሚኖሩ 150 ሺህ የሚሆኑ ሰዎች ቃለመጠይቅ የተደረ...</td>\n",
       "      <td>የሰው ልጆች ተናዳጅ፣ ድብርታም እና ጭንቀታም እየሆኑ መምጣታቸውን በዓለም...</td>\n",
       "      <td>xlsum_summerization</td>\n",
       "      <td>የጋሉፕ ዓለም አቀፍ ውስጣዊ ስሜት ሪፖርት ሰዎች ስለ አዎንታዎቻቸው እና ...</td>\n",
       "    </tr>\n",
       "  </tbody>\n",
       "</table>\n",
       "</div>"
      ],
      "text/plain": [
       "             instruction                                              input  \\\n",
       "0  ለሚከተለውን ጽሑፍ ማጠቃለያ ስጥ።  የ28 አመቷ ሴት ስሟ እንዲገለጥ ያልተፈለገ ሲሆን ንቦቹ አይኗ ውሰጥ ሲገ...   \n",
       "1  ለሚከተለውን ጽሑፍ ማጠቃለያ ስጥ።  ፎቶ፡ GettyImages የአረና ፓርቲ ሊቀመንብር አቶ አብርሃ ደስታ በላ...   \n",
       "2  ለሚከተለውን ጽሑፍ ማጠቃለያ ስጥ።  ይህ በሚሊዮኖች ዘንድ ተወዳጅነት ያተረፈ ማሕበራዊ ድር-አምባ እንዴት የአ...   \n",
       "3  ለሚከተለውን ጽሑፍ ማጠቃለያ ስጥ።  ሚኒስትሩን ዶ/ር ስለሺ በቀለን ዋቢ አድርገው የአገር ውስጥ ሚዲያዎች እን...   \n",
       "4  ለሚከተለውን ጽሑፍ ማጠቃለያ ስጥ።  በ140 ሃገራት ውስጥ የሚኖሩ 150 ሺህ የሚሆኑ ሰዎች ቃለመጠይቅ የተደረ...   \n",
       "\n",
       "                                             ouptput           datasource  \\\n",
       "0  በታይዋን ከአንዲት ሴት አይን ውስጥ ዶክተሮች አራት ንቦችን አወጡ። በደሴ...  xlsum_summerization   \n",
       "1  ከሰሞኑ ባለቤትነታቸው የአረና ትግራይ ፓርቲ አባል ናቸው የተባሉ አስራ ስ...  xlsum_summerization   \n",
       "2  የአሜሪካው ፕሬዝደንት ዶናልድ ትራምፕ ቲክ ቶክ የተሰኘው የተንቀሳቃሽ ምስ...  xlsum_summerization   \n",
       "3  የታላቁ ሕዳሴ ግድብ የመጀመሪያ ምዕራፍ ውሃ ሙሌት መጀመሩን የውሃ፣ መስኖ...  xlsum_summerization   \n",
       "4  የሰው ልጆች ተናዳጅ፣ ድብርታም እና ጭንቀታም እየሆኑ መምጣታቸውን በዓለም...  xlsum_summerization   \n",
       "\n",
       "                                            response  \n",
       "0  በሰው አይን ውስጥ ሕይወት በተዙ ንቦችን ጽሑፍ ስለመገመቱ ይናገራል። ከዚ...  \n",
       "1  የአረና ፓርቲ ሊቀመንበር አቶ አብርሃ ደስታ፣ ፓርቲውን አባል እንደሆኑ የ...  \n",
       "2                የአሜሪካ መንግሥት ጉዋዝ ዲፖርትምንት ገና ለቲክቶክን መ  \n",
       "3  በዚህ አማራጭ የታዘዘ መሠረት የኢትዮጵያ የውሃ ሚኒስትሩ ዶ/ር ስለሺ በቀ...  \n",
       "4  የጋሉፕ ዓለም አቀፍ ውስጣዊ ስሜት ሪፖርት ሰዎች ስለ አዎንታዎቻቸው እና ...  "
      ]
     },
     "execution_count": 2,
     "metadata": {},
     "output_type": "execute_result"
    }
   ],
   "source": [
    "data = pd.read_csv('Gpt-4/xlsum_summerization/gpt4_responses-xlsum_summerization.csv')\n",
    "data.head()"
   ]
  },
  {
   "cell_type": "code",
   "execution_count": 3,
   "metadata": {},
   "outputs": [
    {
     "name": "stderr",
     "output_type": "stream",
     "text": [
      "[nltk_data] Downloading package punkt to /Users/israela/nltk_data...\n",
      "[nltk_data]   Package punkt is already up-to-date!\n"
     ]
    },
    {
     "data": {
      "text/plain": [
       "True"
      ]
     },
     "execution_count": 3,
     "metadata": {},
     "output_type": "execute_result"
    }
   ],
   "source": [
    "nltk.download('punkt')"
   ]
  },
  {
   "cell_type": "code",
   "execution_count": 4,
   "metadata": {},
   "outputs": [],
   "source": [
    "def calculate_bleu_score(references: List[List[str]], candidates: List[str]) -> float:\n",
    "    scores = []\n",
    "    for ref, cand in zip(references, candidates):\n",
    "        candidate_tokens = nltk.word_tokenize(cand)\n",
    "        reference_tokens = [nltk.word_tokenize(r) for r in ref]\n",
    "        \n",
    "        score = sentence_bleu(reference_tokens, candidate_tokens)\n",
    "        scores.append(score)\n",
    "\n",
    "    \n",
    "    print(f\" sentence bleu : {sum(scores) / len(scores) if scores else 0}\")\n",
    "\n",
    "    bleu = sacrebleu.corpus_bleu(candidates, [references])\n",
    "    print(f\"SacreBLEU score: {bleu.score}\")\n",
    "\n",
    "    results = rouge.compute(predictions=candidates, references=references)\n",
    "    print(f\"Rogue results: {results}\")\n",
    "\n",
    "   \n",
    "\n",
    "\n",
    "\n"
   ]
  },
  {
   "cell_type": "code",
   "execution_count": 5,
   "metadata": {},
   "outputs": [
    {
     "name": "stderr",
     "output_type": "stream",
     "text": [
      "/Users/israela/anaconda3/envs/orca/lib/python3.8/site-packages/nltk/translate/bleu_score.py:552: UserWarning: \n",
      "The hypothesis contains 0 counts of 2-gram overlaps.\n",
      "Therefore the BLEU score evaluates to 0, independently of\n",
      "how many N-gram overlaps of lower order it contains.\n",
      "Consider using lower n-gram order or use SmoothingFunction()\n",
      "  warnings.warn(_msg)\n",
      "/Users/israela/anaconda3/envs/orca/lib/python3.8/site-packages/nltk/translate/bleu_score.py:552: UserWarning: \n",
      "The hypothesis contains 0 counts of 3-gram overlaps.\n",
      "Therefore the BLEU score evaluates to 0, independently of\n",
      "how many N-gram overlaps of lower order it contains.\n",
      "Consider using lower n-gram order or use SmoothingFunction()\n",
      "  warnings.warn(_msg)\n",
      "/Users/israela/anaconda3/envs/orca/lib/python3.8/site-packages/nltk/translate/bleu_score.py:552: UserWarning: \n",
      "The hypothesis contains 0 counts of 4-gram overlaps.\n",
      "Therefore the BLEU score evaluates to 0, independently of\n",
      "how many N-gram overlaps of lower order it contains.\n",
      "Consider using lower n-gram order or use SmoothingFunction()\n",
      "  warnings.warn(_msg)\n"
     ]
    },
    {
     "name": "stdout",
     "output_type": "stream",
     "text": [
      " sentence bleu : 9.272879563392678e-233\n",
      "SacreBLEU score: 0.6229606324821388\n",
      "Rogue results: {'rouge1': 0.034186567112199105, 'rouge2': 0.001159017153453871, 'rougeL': 0.03340948551207898, 'rougeLsum': 0.03313474502626101}\n"
     ]
    }
   ],
   "source": [
    "calculate_bleu_score(data.ouptput.values.tolist(), data.response.values.tolist())\n"
   ]
  },
  {
   "cell_type": "code",
   "execution_count": null,
   "metadata": {},
   "outputs": [],
   "source": []
  }
 ],
 "metadata": {
  "kernelspec": {
   "display_name": "Python 3",
   "language": "python",
   "name": "python3"
  },
  "language_info": {
   "codemirror_mode": {
    "name": "ipython",
    "version": 3
   },
   "file_extension": ".py",
   "mimetype": "text/x-python",
   "name": "python",
   "nbconvert_exporter": "python",
   "pygments_lexer": "ipython3",
   "version": "3.8.18"
  }
 },
 "nbformat": 4,
 "nbformat_minor": 2
}
