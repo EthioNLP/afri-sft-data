{
 "cells": [
  {
   "cell_type": "code",
   "execution_count": 97,
   "metadata": {},
   "outputs": [],
   "source": [
    "import nltk\n",
    "from nltk.translate.bleu_score import sentence_bleu\n",
    "from typing import List\n",
    "import pandas as pd\n",
    "import sacrebleu\n",
    "from rouge_score import rouge_scorer\n",
    "import evaluate\n",
    "rouge = evaluate.load('rouge')\n",
    "sacrebleu = evaluate.load(\"sacrebleu\")\n",
    "chrf = evaluate.load(\"chrf\")"
   ]
  },
  {
   "cell_type": "code",
   "execution_count": 98,
   "metadata": {},
   "outputs": [],
   "source": [
    "# d = pd.read_csv('./amharic_title_generation/gpt4_responses-amharic_title_generation.csv').input.values.tolist()\n"
   ]
  },
  {
   "cell_type": "code",
   "execution_count": 99,
   "metadata": {},
   "outputs": [
    {
     "data": {
      "text/html": [
       "<div>\n",
       "<style scoped>\n",
       "    .dataframe tbody tr th:only-of-type {\n",
       "        vertical-align: middle;\n",
       "    }\n",
       "\n",
       "    .dataframe tbody tr th {\n",
       "        vertical-align: top;\n",
       "    }\n",
       "\n",
       "    .dataframe thead th {\n",
       "        text-align: right;\n",
       "    }\n",
       "</style>\n",
       "<table border=\"1\" class=\"dataframe\">\n",
       "  <thead>\n",
       "    <tr style=\"text-align: right;\">\n",
       "      <th></th>\n",
       "      <th>instruction</th>\n",
       "      <th>input</th>\n",
       "      <th>ouptput</th>\n",
       "      <th>datasource</th>\n",
       "      <th>response</th>\n",
       "    </tr>\n",
       "  </thead>\n",
       "  <tbody>\n",
       "    <tr>\n",
       "      <th>0</th>\n",
       "      <td>የተሰጠውን ጽሁፍ  ከ English ቋንቋ ወደ አማርኛ ቋንቋ ተርጉም።</td>\n",
       "      <td>\"We now have 4-month-old mice that are non-dia...</td>\n",
       "      <td>\"አሁን የስኳር በሽተኛ ያልነበሩ አሁን ግን የሆኑ የ4-ወር-ዕድሜ ያላቸው...</td>\n",
       "      <td>amharic_mt eng-amh</td>\n",
       "      <td>\"አሁን 4 ወር ያህል አድርጏ ያሉ እርኳኖች አሁን የስኳር በሽታ የሌላቸው...</td>\n",
       "    </tr>\n",
       "    <tr>\n",
       "      <th>1</th>\n",
       "      <td>የተሰጠውን ጽሁፍ  ከ English ቋንቋ ወደ አማርኛ ቋንቋ ተርጉም።</td>\n",
       "      <td>Dr. Ehud Ur, professor of medicine at Dalhousi...</td>\n",
       "      <td>ዶክተር ኢሁድ ኡር፣ በሃሊፉሽ፣ ኖቫስኮሽያ ውስጥ በሚገኘው በዳልሃውዚ ዩኒ...</td>\n",
       "      <td>amharic_mt eng-amh</td>\n",
       "      <td>''' ዶ/ር ኡሁድ ኡር፣ የህክምና ፕሮፌሰር በዳሎሃውሲ ዩኒቨርሲቲ በሀልፋ...</td>\n",
       "    </tr>\n",
       "    <tr>\n",
       "      <th>2</th>\n",
       "      <td>የተሰጠውን ጽሁፍ  ከ English ቋንቋ ወደ አማርኛ ቋንቋ ተርጉም።</td>\n",
       "      <td>Like some other experts, he is skeptical about...</td>\n",
       "      <td>ልክ እንደ ሌሎች ባለሙያዎች፣ አይነት 1 የስኳር በሽታ ላለባቸው ሰዎች እ...</td>\n",
       "      <td>amharic_mt eng-amh</td>\n",
       "      <td>'''እንደ ሌሎች ጠቀምታዎችም እሱ, ዲያቤቴስ መፈወስ እንደሚቻል በአማልጅ...</td>\n",
       "    </tr>\n",
       "    <tr>\n",
       "      <th>3</th>\n",
       "      <td>የተሰጠውን ጽሁፍ  ከ English ቋንቋ ወደ አማርኛ ቋንቋ ተርጉም።</td>\n",
       "      <td>On Monday, Sara Danius, permanent secretary of...</td>\n",
       "      <td>ሰኞ ዕለት፣ ሳራ ዳኒየስ፣ ለኖቤል ኮሚቴ ለስነ ጽሁፍ በስዊድናዊ አካዳሚ ...</td>\n",
       "      <td>amharic_mt eng-amh</td>\n",
       "      <td>በሰኞ፡ ሠራ ዳኒውስ፣ በስዊድነሽ አካዳሚ የኖቤል የቅርም ወጪ ማህበር የዘ...</td>\n",
       "    </tr>\n",
       "    <tr>\n",
       "      <th>4</th>\n",
       "      <td>የተሰጠውን ጽሁፍ  ከ English ቋንቋ ወደ አማርኛ ቋንቋ ተርጉም።</td>\n",
       "      <td>Danius said, \"Right now we are doing nothing. ...</td>\n",
       "      <td>“አሁን ምንም እያደግን አይደለም። ለቅርብ ተባባሪው ደውያለሁ አና ኢሜይል...</td>\n",
       "      <td>amharic_mt eng-amh</td>\n",
       "      <td>ዳኒዩስ አለ፣ \"በአሁኑ ሰዓት ባለሙያው ምንም አይሰራም። ለቀረበው በተቀማ...</td>\n",
       "    </tr>\n",
       "  </tbody>\n",
       "</table>\n",
       "</div>"
      ],
      "text/plain": [
       "                                   instruction  \\\n",
       "0  የተሰጠውን ጽሁፍ  ከ English ቋንቋ ወደ አማርኛ ቋንቋ ተርጉም።   \n",
       "1  የተሰጠውን ጽሁፍ  ከ English ቋንቋ ወደ አማርኛ ቋንቋ ተርጉም።   \n",
       "2  የተሰጠውን ጽሁፍ  ከ English ቋንቋ ወደ አማርኛ ቋንቋ ተርጉም።   \n",
       "3  የተሰጠውን ጽሁፍ  ከ English ቋንቋ ወደ አማርኛ ቋንቋ ተርጉም።   \n",
       "4  የተሰጠውን ጽሁፍ  ከ English ቋንቋ ወደ አማርኛ ቋንቋ ተርጉም።   \n",
       "\n",
       "                                               input  \\\n",
       "0  \"We now have 4-month-old mice that are non-dia...   \n",
       "1  Dr. Ehud Ur, professor of medicine at Dalhousi...   \n",
       "2  Like some other experts, he is skeptical about...   \n",
       "3  On Monday, Sara Danius, permanent secretary of...   \n",
       "4  Danius said, \"Right now we are doing nothing. ...   \n",
       "\n",
       "                                             ouptput          datasource  \\\n",
       "0  \"አሁን የስኳር በሽተኛ ያልነበሩ አሁን ግን የሆኑ የ4-ወር-ዕድሜ ያላቸው...  amharic_mt eng-amh   \n",
       "1  ዶክተር ኢሁድ ኡር፣ በሃሊፉሽ፣ ኖቫስኮሽያ ውስጥ በሚገኘው በዳልሃውዚ ዩኒ...  amharic_mt eng-amh   \n",
       "2  ልክ እንደ ሌሎች ባለሙያዎች፣ አይነት 1 የስኳር በሽታ ላለባቸው ሰዎች እ...  amharic_mt eng-amh   \n",
       "3  ሰኞ ዕለት፣ ሳራ ዳኒየስ፣ ለኖቤል ኮሚቴ ለስነ ጽሁፍ በስዊድናዊ አካዳሚ ...  amharic_mt eng-amh   \n",
       "4  “አሁን ምንም እያደግን አይደለም። ለቅርብ ተባባሪው ደውያለሁ አና ኢሜይል...  amharic_mt eng-amh   \n",
       "\n",
       "                                            response  \n",
       "0  \"አሁን 4 ወር ያህል አድርጏ ያሉ እርኳኖች አሁን የስኳር በሽታ የሌላቸው...  \n",
       "1  ''' ዶ/ር ኡሁድ ኡር፣ የህክምና ፕሮፌሰር በዳሎሃውሲ ዩኒቨርሲቲ በሀልፋ...  \n",
       "2  '''እንደ ሌሎች ጠቀምታዎችም እሱ, ዲያቤቴስ መፈወስ እንደሚቻል በአማልጅ...  \n",
       "3  በሰኞ፡ ሠራ ዳኒውስ፣ በስዊድነሽ አካዳሚ የኖቤል የቅርም ወጪ ማህበር የዘ...  \n",
       "4  ዳኒዩስ አለ፣ \"በአሁኑ ሰዓት ባለሙያው ምንም አይሰራም። ለቀረበው በተቀማ...  "
      ]
     },
     "execution_count": 99,
     "metadata": {},
     "output_type": "execute_result"
    }
   ],
   "source": [
    "\n",
    "data = pd.read_csv('./Gpt-4/amharic_mt_eng-amh/gpt4_responses-amharic_mt eng-amh.csv')\n",
    "# print(data.Datasource.value_counts())\n",
    "data.head()"
   ]
  },
  {
   "cell_type": "code",
   "execution_count": 100,
   "metadata": {},
   "outputs": [
    {
     "data": {
      "text/html": [
       "<div>\n",
       "<style scoped>\n",
       "    .dataframe tbody tr th:only-of-type {\n",
       "        vertical-align: middle;\n",
       "    }\n",
       "\n",
       "    .dataframe tbody tr th {\n",
       "        vertical-align: top;\n",
       "    }\n",
       "\n",
       "    .dataframe thead th {\n",
       "        text-align: right;\n",
       "    }\n",
       "</style>\n",
       "<table border=\"1\" class=\"dataframe\">\n",
       "  <thead>\n",
       "    <tr style=\"text-align: right;\">\n",
       "      <th></th>\n",
       "      <th>instruction</th>\n",
       "      <th>input</th>\n",
       "      <th>ouptput</th>\n",
       "      <th>datasource</th>\n",
       "      <th>response</th>\n",
       "    </tr>\n",
       "  </thead>\n",
       "  <tbody>\n",
       "    <tr>\n",
       "      <th>1007</th>\n",
       "      <td>የተሰጠውን ጽሁፍ  ከ English ቋንቋ ወደ አማርኛ ቋንቋ ተርጉም።</td>\n",
       "      <td>As the areas are sparsely populated, and light...</td>\n",
       "      <td>አከባቢዎቹ ጥቂት የሰፈሩ ሰዎች ስላሉበት፣ እና የብርሃን ብክለት ብዙውን ...</td>\n",
       "      <td>amharic_mt eng-amh</td>\n",
       "      <td>'''እንደሚመጡት የምድር ቦታዎች በቀላሉ ሰፊ ሰፊ በመፈሰጋቸው ምክንያት፣...</td>\n",
       "    </tr>\n",
       "    <tr>\n",
       "      <th>1008</th>\n",
       "      <td>የተሰጠውን ጽሁፍ  ከ English ቋንቋ ወደ አማርኛ ቋንቋ ተርጉም።</td>\n",
       "      <td>Japanese work culture is more hierarchical and...</td>\n",
       "      <td>የጃፓን የሥራ ባህል ምዕራባውያን ከለመዱት ሁኔታ በተለየ መልኩ የበለጠ ተ...</td>\n",
       "      <td>amharic_mt eng-amh</td>\n",
       "      <td>'''የጃፓን የስራ ባህል ከምስራቅ ሰዎች ሊሰሩበት የሚችሉት ከሆነ የተበል...</td>\n",
       "    </tr>\n",
       "    <tr>\n",
       "      <th>1009</th>\n",
       "      <td>የተሰጠውን ጽሁፍ  ከ English ቋንቋ ወደ አማርኛ ቋንቋ ተርጉም።</td>\n",
       "      <td>Suits are standard business attire, and cowork...</td>\n",
       "      <td>ሱፍ መደበኛ የስራ ልብስ ነው እና ባልደረባዎች እርስ በርስ የሚጠራሩት በ...</td>\n",
       "      <td>amharic_mt eng-amh</td>\n",
       "      <td>'''እየተመረጡ ስብስቦች የስራ አደራሽ ቀሚስ ናቸው፤ እና የሥራ ባልንጀራ...</td>\n",
       "    </tr>\n",
       "    <tr>\n",
       "      <th>1010</th>\n",
       "      <td>የተሰጠውን ጽሁፍ  ከ English ቋንቋ ወደ አማርኛ ቋንቋ ተርጉም።</td>\n",
       "      <td>Workplace harmony is crucial, emphasizing grou...</td>\n",
       "      <td>የስራ ቦታ ስምምነት የግል ስኬቶችን ከማድነቅ ይልቅ የቡድን ጥረት ላይ ት...</td>\n",
       "      <td>amharic_mt eng-amh</td>\n",
       "      <td>'''የስራ ቦታ ስምምነት አስፈላጊ ነው፣ ከመድሃኒት የግለሰብ ድርሻዎች ጋ...</td>\n",
       "    </tr>\n",
       "    <tr>\n",
       "      <th>1011</th>\n",
       "      <td>የተሰጠውን ጽሁፍ  ከ English ቋንቋ ወደ አማርኛ ቋንቋ ተርጉም።</td>\n",
       "      <td>Workers must often get their superiors' approv...</td>\n",
       "      <td>ሰራተኞች ለሚሰጡት ውሳኔዎች በሙሉ የበላዮቻቸውን በአብዝኛው ተቀባይነት ሊ...</td>\n",
       "      <td>amharic_mt eng-amh</td>\n",
       "      <td>'''ሠራተኞች በተለይ ለማድረጋቸው የሚኖሯቸውን ውሳኔዎች ከላይኛቸው ፋብ ...</td>\n",
       "    </tr>\n",
       "  </tbody>\n",
       "</table>\n",
       "</div>"
      ],
      "text/plain": [
       "                                      instruction  \\\n",
       "1007  የተሰጠውን ጽሁፍ  ከ English ቋንቋ ወደ አማርኛ ቋንቋ ተርጉም።   \n",
       "1008  የተሰጠውን ጽሁፍ  ከ English ቋንቋ ወደ አማርኛ ቋንቋ ተርጉም።   \n",
       "1009  የተሰጠውን ጽሁፍ  ከ English ቋንቋ ወደ አማርኛ ቋንቋ ተርጉም።   \n",
       "1010  የተሰጠውን ጽሁፍ  ከ English ቋንቋ ወደ አማርኛ ቋንቋ ተርጉም።   \n",
       "1011  የተሰጠውን ጽሁፍ  ከ English ቋንቋ ወደ አማርኛ ቋንቋ ተርጉም።   \n",
       "\n",
       "                                                  input  \\\n",
       "1007  As the areas are sparsely populated, and light...   \n",
       "1008  Japanese work culture is more hierarchical and...   \n",
       "1009  Suits are standard business attire, and cowork...   \n",
       "1010  Workplace harmony is crucial, emphasizing grou...   \n",
       "1011  Workers must often get their superiors' approv...   \n",
       "\n",
       "                                                ouptput          datasource  \\\n",
       "1007  አከባቢዎቹ ጥቂት የሰፈሩ ሰዎች ስላሉበት፣ እና የብርሃን ብክለት ብዙውን ...  amharic_mt eng-amh   \n",
       "1008  የጃፓን የሥራ ባህል ምዕራባውያን ከለመዱት ሁኔታ በተለየ መልኩ የበለጠ ተ...  amharic_mt eng-amh   \n",
       "1009  ሱፍ መደበኛ የስራ ልብስ ነው እና ባልደረባዎች እርስ በርስ የሚጠራሩት በ...  amharic_mt eng-amh   \n",
       "1010  የስራ ቦታ ስምምነት የግል ስኬቶችን ከማድነቅ ይልቅ የቡድን ጥረት ላይ ት...  amharic_mt eng-amh   \n",
       "1011  ሰራተኞች ለሚሰጡት ውሳኔዎች በሙሉ የበላዮቻቸውን በአብዝኛው ተቀባይነት ሊ...  amharic_mt eng-amh   \n",
       "\n",
       "                                               response  \n",
       "1007  '''እንደሚመጡት የምድር ቦታዎች በቀላሉ ሰፊ ሰፊ በመፈሰጋቸው ምክንያት፣...  \n",
       "1008  '''የጃፓን የስራ ባህል ከምስራቅ ሰዎች ሊሰሩበት የሚችሉት ከሆነ የተበል...  \n",
       "1009  '''እየተመረጡ ስብስቦች የስራ አደራሽ ቀሚስ ናቸው፤ እና የሥራ ባልንጀራ...  \n",
       "1010  '''የስራ ቦታ ስምምነት አስፈላጊ ነው፣ ከመድሃኒት የግለሰብ ድርሻዎች ጋ...  \n",
       "1011  '''ሠራተኞች በተለይ ለማድረጋቸው የሚኖሯቸውን ውሳኔዎች ከላይኛቸው ፋብ ...  "
      ]
     },
     "execution_count": 100,
     "metadata": {},
     "output_type": "execute_result"
    }
   ],
   "source": [
    "# data=data[data.Datasource==\"amharic_mt amh-eng\"]\n",
    "# data.drop_duplicates(subset='Input Text', keep=\"last\")\n",
    "# data = data.head(1300)\n",
    "data = data.fillna('')\n",
    "data.tail()"
   ]
  },
  {
   "cell_type": "code",
   "execution_count": 101,
   "metadata": {},
   "outputs": [
    {
     "name": "stderr",
     "output_type": "stream",
     "text": [
      "[nltk_data] Downloading package punkt to /Users/israela/nltk_data...\n",
      "[nltk_data]   Package punkt is already up-to-date!\n"
     ]
    },
    {
     "data": {
      "text/plain": [
       "True"
      ]
     },
     "execution_count": 101,
     "metadata": {},
     "output_type": "execute_result"
    }
   ],
   "source": [
    "nltk.download('punkt')"
   ]
  },
  {
   "cell_type": "code",
   "execution_count": 102,
   "metadata": {},
   "outputs": [],
   "source": [
    "def calculate_bleu_score(references: List[List[str]], candidates: List[str]) -> float:\n",
    "    scores = []\n",
    "    for ref, cand in zip(references, candidates):\n",
    "        candidate_tokens = nltk.word_tokenize(cand)\n",
    "        reference_tokens = [nltk.word_tokenize(r) for r in ref]\n",
    "        \n",
    "        score = sentence_bleu(reference_tokens, candidate_tokens)\n",
    "        scores.append(score)\n",
    "\n",
    "    \n",
    "    print(f\" sentence bleu : {sum(scores) / len(scores) if scores else 0}\")\n",
    "\n",
    "    bleu = sacrebleu.compute(predictions=candidates, references=references)\n",
    "    print(f\"SacreBLEU score: {bleu}\")\n",
    "\n",
    "    chr = chrf.compute(predictions=candidates, references=references, word_order=2)\n",
    "    print(f\"corpus_chrf score: {chr}\")\n",
    "\n",
    "    results = rouge.compute(predictions=candidates, references=references)\n",
    "    print(f\"Rogue results: {results}\")\n",
    "\n",
    "   \n",
    "\n",
    "\n",
    "\n"
   ]
  },
  {
   "cell_type": "code",
   "execution_count": 103,
   "metadata": {},
   "outputs": [
    {
     "name": "stderr",
     "output_type": "stream",
     "text": [
      "/Users/israela/anaconda3/envs/orca/lib/python3.8/site-packages/nltk/translate/bleu_score.py:552: UserWarning: \n",
      "The hypothesis contains 0 counts of 2-gram overlaps.\n",
      "Therefore the BLEU score evaluates to 0, independently of\n",
      "how many N-gram overlaps of lower order it contains.\n",
      "Consider using lower n-gram order or use SmoothingFunction()\n",
      "  warnings.warn(_msg)\n",
      "/Users/israela/anaconda3/envs/orca/lib/python3.8/site-packages/nltk/translate/bleu_score.py:552: UserWarning: \n",
      "The hypothesis contains 0 counts of 3-gram overlaps.\n",
      "Therefore the BLEU score evaluates to 0, independently of\n",
      "how many N-gram overlaps of lower order it contains.\n",
      "Consider using lower n-gram order or use SmoothingFunction()\n",
      "  warnings.warn(_msg)\n",
      "/Users/israela/anaconda3/envs/orca/lib/python3.8/site-packages/nltk/translate/bleu_score.py:552: UserWarning: \n",
      "The hypothesis contains 0 counts of 4-gram overlaps.\n",
      "Therefore the BLEU score evaluates to 0, independently of\n",
      "how many N-gram overlaps of lower order it contains.\n",
      "Consider using lower n-gram order or use SmoothingFunction()\n",
      "  warnings.warn(_msg)\n"
     ]
    },
    {
     "name": "stdout",
     "output_type": "stream",
     "text": [
      " sentence bleu : 1.9426791601969513e-232\n",
      "SacreBLEU score: {'score': 2.4962305976408814, 'counts': [3569, 765, 217, 66], 'totals': [19361, 18349, 17345, 16344], 'precisions': [18.433965187748566, 4.169164532127091, 1.2510810031709427, 0.40381791483113066], 'bp': 1.0, 'sys_len': 19361, 'ref_len': 17752}\n",
      "corpus_chrf score: {'score': 19.121691648315377, 'char_order': 6, 'word_order': 2, 'beta': 2}\n",
      "Rogue results: {'rouge1': 0.1899549917583514, 'rouge2': 0.07502744839701361, 'rougeL': 0.18679193829885526, 'rougeLsum': 0.18644794215446386}\n"
     ]
    }
   ],
   "source": [
    "calculate_bleu_score(data.ouptput.values.tolist(), data.response.values.tolist())\n"
   ]
  },
  {
   "cell_type": "code",
   "execution_count": null,
   "metadata": {},
   "outputs": [],
   "source": []
  },
  {
   "cell_type": "code",
   "execution_count": null,
   "metadata": {},
   "outputs": [],
   "source": []
  }
 ],
 "metadata": {
  "kernelspec": {
   "display_name": "Python 3",
   "language": "python",
   "name": "python3"
  },
  "language_info": {
   "codemirror_mode": {
    "name": "ipython",
    "version": 3
   },
   "file_extension": ".py",
   "mimetype": "text/x-python",
   "name": "python",
   "nbconvert_exporter": "python",
   "pygments_lexer": "ipython3",
   "version": "3.8.18"
  }
 },
 "nbformat": 4,
 "nbformat_minor": 2
}
