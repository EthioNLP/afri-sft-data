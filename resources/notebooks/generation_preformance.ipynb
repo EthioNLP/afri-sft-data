{
 "cells": [
  {
   "cell_type": "code",
   "execution_count": 1,
   "metadata": {},
   "outputs": [
    {
     "name": "stderr",
     "output_type": "stream",
     "text": [
      "/Users/israela/anaconda3/envs/orca/lib/python3.8/site-packages/tqdm/auto.py:21: TqdmWarning: IProgress not found. Please update jupyter and ipywidgets. See https://ipywidgets.readthedocs.io/en/stable/user_install.html\n",
      "  from .autonotebook import tqdm as notebook_tqdm\n"
     ]
    }
   ],
   "source": [
    "import nltk\n",
    "from nltk.translate.bleu_score import sentence_bleu\n",
    "from typing import List\n",
    "import pandas as pd\n",
    "import sacrebleu\n",
    "from rouge_score import rouge_scorer\n",
    "import evaluate\n",
    "rouge = evaluate.load('rouge')"
   ]
  },
  {
   "cell_type": "code",
   "execution_count": 16,
   "metadata": {},
   "outputs": [
    {
     "data": {
      "text/html": [
       "<div>\n",
       "<style scoped>\n",
       "    .dataframe tbody tr th:only-of-type {\n",
       "        vertical-align: middle;\n",
       "    }\n",
       "\n",
       "    .dataframe tbody tr th {\n",
       "        vertical-align: top;\n",
       "    }\n",
       "\n",
       "    .dataframe thead th {\n",
       "        text-align: right;\n",
       "    }\n",
       "</style>\n",
       "<table border=\"1\" class=\"dataframe\">\n",
       "  <thead>\n",
       "    <tr style=\"text-align: right;\">\n",
       "      <th></th>\n",
       "      <th>instruction</th>\n",
       "      <th>input</th>\n",
       "      <th>ouptput</th>\n",
       "      <th>datasource</th>\n",
       "      <th>response</th>\n",
       "    </tr>\n",
       "  </thead>\n",
       "  <tbody>\n",
       "    <tr>\n",
       "      <th>0</th>\n",
       "      <td>ለሚከተለውን ጽሑፍ ማብራሪያ  ስጥ።</td>\n",
       "      <td>በታይዋን ከአንዲት ሴት አይን ውስጥ ዶክተሮች አራት ንቦችን አወጡ። በደሴ...</td>\n",
       "      <td>የ28 አመቷ ሴት ስሟ እንዲገለጥ ያልተፈለገ ሲሆን ንቦቹ አይኗ ውሰጥ ሲገ...</td>\n",
       "      <td>xlsum_reverse_summerization</td>\n",
       "      <td>በታይዋን የሚገኘው ሴት መርከብ ውስጥ ዶክተሮች አራት እንዲታዩ ንቦችን አ...</td>\n",
       "    </tr>\n",
       "    <tr>\n",
       "      <th>1</th>\n",
       "      <td>ለሚከተለውን ጽሑፍ ማብራሪያ  ስጥ።</td>\n",
       "      <td>ከሰሞኑ ባለቤትነታቸው የአረና ትግራይ ፓርቲ አባል ናቸው የተባሉ አስራ ስ...</td>\n",
       "      <td>ፎቶ፡ GettyImages የአረና ፓርቲ ሊቀመንብር አቶ አብርሃ ደስታ በላ...</td>\n",
       "      <td>xlsum_reverse_summerization</td>\n",
       "      <td>የዜና መረጃዎች ማሳሰቢያዎች እንደሚቀርቡ በሚሉ ጥያቄዎች ላይ የመልሱም ባ...</td>\n",
       "    </tr>\n",
       "    <tr>\n",
       "      <th>2</th>\n",
       "      <td>ለሚከተለውን ጽሑፍ ማብራሪያ  ስጥ።</td>\n",
       "      <td>የአሜሪካው ፕሬዝደንት ዶናልድ ትራምፕ ቲክ ቶክ የተሰኘው የተንቀሳቃሽ ምስ...</td>\n",
       "      <td>ይህ በሚሊዮኖች ዘንድ ተወዳጅነት ያተረፈ ማሕበራዊ ድር-አምባ እንዴት የአ...</td>\n",
       "      <td>xlsum_reverse_summerization</td>\n",
       "      <td>ፕሬዝደንት ዶናልድ ትራምፕ አሜሪካ ውስጥ ያለውን ቲክ ቶክ - የተንቀሳቃሽ...</td>\n",
       "    </tr>\n",
       "    <tr>\n",
       "      <th>3</th>\n",
       "      <td>ለሚከተለውን ጽሑፍ ማብራሪያ  ስጥ።</td>\n",
       "      <td>የታላቁ ሕዳሴ ግድብ የመጀመሪያ ምዕራፍ ውሃ ሙሌት መጀመሩን የውሃ፣ መስኖ...</td>\n",
       "      <td>ሚኒስትሩን ዶ/ር ስለሺ በቀለን ዋቢ አድርገው የአገር ውስጥ ሚዲያዎች እን...</td>\n",
       "      <td>xlsum_reverse_summerization</td>\n",
       "      <td>የውሃ፣ መስኖና ኢነርጂ ሚኒስቴር የሰጠው መረጃ እንደሚገልጻው የታላቁ ሕዳ...</td>\n",
       "    </tr>\n",
       "    <tr>\n",
       "      <th>4</th>\n",
       "      <td>ለሚከተለውን ጽሑፍ ማብራሪያ  ስጥ።</td>\n",
       "      <td>የሰው ልጆች ተናዳጅ፣ ድብርታም እና ጭንቀታም እየሆኑ መምጣታቸውን በዓለም...</td>\n",
       "      <td>በ140 ሃገራት ውስጥ የሚኖሩ 150 ሺህ የሚሆኑ ሰዎች ቃለመጠይቅ የተደረ...</td>\n",
       "      <td>xlsum_reverse_summerization</td>\n",
       "      <td>በዓለም አቀፍ ደረጃ በተካሄደ ጥናት የሰው ልጆች ደጋፊዎች በሚያጋጥሙ ጭን...</td>\n",
       "    </tr>\n",
       "  </tbody>\n",
       "</table>\n",
       "</div>"
      ],
      "text/plain": [
       "              instruction                                              input  \\\n",
       "0  ለሚከተለውን ጽሑፍ ማብራሪያ  ስጥ።  በታይዋን ከአንዲት ሴት አይን ውስጥ ዶክተሮች አራት ንቦችን አወጡ። በደሴ...   \n",
       "1  ለሚከተለውን ጽሑፍ ማብራሪያ  ስጥ።  ከሰሞኑ ባለቤትነታቸው የአረና ትግራይ ፓርቲ አባል ናቸው የተባሉ አስራ ስ...   \n",
       "2  ለሚከተለውን ጽሑፍ ማብራሪያ  ስጥ።  የአሜሪካው ፕሬዝደንት ዶናልድ ትራምፕ ቲክ ቶክ የተሰኘው የተንቀሳቃሽ ምስ...   \n",
       "3  ለሚከተለውን ጽሑፍ ማብራሪያ  ስጥ።  የታላቁ ሕዳሴ ግድብ የመጀመሪያ ምዕራፍ ውሃ ሙሌት መጀመሩን የውሃ፣ መስኖ...   \n",
       "4  ለሚከተለውን ጽሑፍ ማብራሪያ  ስጥ።  የሰው ልጆች ተናዳጅ፣ ድብርታም እና ጭንቀታም እየሆኑ መምጣታቸውን በዓለም...   \n",
       "\n",
       "                                             ouptput  \\\n",
       "0  የ28 አመቷ ሴት ስሟ እንዲገለጥ ያልተፈለገ ሲሆን ንቦቹ አይኗ ውሰጥ ሲገ...   \n",
       "1  ፎቶ፡ GettyImages የአረና ፓርቲ ሊቀመንብር አቶ አብርሃ ደስታ በላ...   \n",
       "2  ይህ በሚሊዮኖች ዘንድ ተወዳጅነት ያተረፈ ማሕበራዊ ድር-አምባ እንዴት የአ...   \n",
       "3  ሚኒስትሩን ዶ/ር ስለሺ በቀለን ዋቢ አድርገው የአገር ውስጥ ሚዲያዎች እን...   \n",
       "4  በ140 ሃገራት ውስጥ የሚኖሩ 150 ሺህ የሚሆኑ ሰዎች ቃለመጠይቅ የተደረ...   \n",
       "\n",
       "                    datasource  \\\n",
       "0  xlsum_reverse_summerization   \n",
       "1  xlsum_reverse_summerization   \n",
       "2  xlsum_reverse_summerization   \n",
       "3  xlsum_reverse_summerization   \n",
       "4  xlsum_reverse_summerization   \n",
       "\n",
       "                                            response  \n",
       "0  በታይዋን የሚገኘው ሴት መርከብ ውስጥ ዶክተሮች አራት እንዲታዩ ንቦችን አ...  \n",
       "1  የዜና መረጃዎች ማሳሰቢያዎች እንደሚቀርቡ በሚሉ ጥያቄዎች ላይ የመልሱም ባ...  \n",
       "2  ፕሬዝደንት ዶናልድ ትራምፕ አሜሪካ ውስጥ ያለውን ቲክ ቶክ - የተንቀሳቃሽ...  \n",
       "3  የውሃ፣ መስኖና ኢነርጂ ሚኒስቴር የሰጠው መረጃ እንደሚገልጻው የታላቁ ሕዳ...  \n",
       "4  በዓለም አቀፍ ደረጃ በተካሄደ ጥናት የሰው ልጆች ደጋፊዎች በሚያጋጥሙ ጭን...  "
      ]
     },
     "execution_count": 16,
     "metadata": {},
     "output_type": "execute_result"
    }
   ],
   "source": [
    "data = pd.read_csv('Gpt-4/xlsum_reverse_summerization/gpt4_responses-xlsum_reverse_summerization.csv')\n",
    "data.head()"
   ]
  },
  {
   "cell_type": "code",
   "execution_count": 17,
   "metadata": {},
   "outputs": [
    {
     "name": "stderr",
     "output_type": "stream",
     "text": [
      "[nltk_data] Downloading package punkt to /Users/israela/nltk_data...\n",
      "[nltk_data]   Package punkt is already up-to-date!\n"
     ]
    },
    {
     "data": {
      "text/plain": [
       "True"
      ]
     },
     "execution_count": 17,
     "metadata": {},
     "output_type": "execute_result"
    }
   ],
   "source": [
    "nltk.download('punkt')"
   ]
  },
  {
   "cell_type": "code",
   "execution_count": 18,
   "metadata": {},
   "outputs": [],
   "source": [
    "def calculate_bleu_score(references: List[List[str]], candidates: List[str]) -> float:\n",
    "    scores = []\n",
    "    for ref, cand in zip(references, candidates):\n",
    "        candidate_tokens = nltk.word_tokenize(cand)\n",
    "        reference_tokens = [nltk.word_tokenize(r) for r in ref]\n",
    "        \n",
    "        score = sentence_bleu(reference_tokens, candidate_tokens)\n",
    "        scores.append(score)\n",
    "\n",
    "    \n",
    "    print(f\" sentence bleu : {sum(scores) / len(scores) if scores else 0}\")\n",
    "\n",
    "    bleu = sacrebleu.corpus_bleu(candidates, [references])\n",
    "    print(f\"SacreBLEU score: {bleu.score}\")\n",
    "\n",
    "    bleu = sacrebleu.corpus_chrf(candidates, [references])\n",
    "    print(f\"corpus_chrf score: {bleu.score}\")\n",
    "\n",
    "    results = rouge.compute(predictions=candidates, references=references)\n",
    "    print(f\"Rogue results: {results}\")\n",
    "\n",
    "   \n",
    "\n",
    "\n",
    "\n"
   ]
  },
  {
   "cell_type": "code",
   "execution_count": 19,
   "metadata": {},
   "outputs": [
    {
     "name": "stderr",
     "output_type": "stream",
     "text": [
      "/Users/israela/anaconda3/envs/orca/lib/python3.8/site-packages/nltk/translate/bleu_score.py:552: UserWarning: \n",
      "The hypothesis contains 0 counts of 2-gram overlaps.\n",
      "Therefore the BLEU score evaluates to 0, independently of\n",
      "how many N-gram overlaps of lower order it contains.\n",
      "Consider using lower n-gram order or use SmoothingFunction()\n",
      "  warnings.warn(_msg)\n",
      "/Users/israela/anaconda3/envs/orca/lib/python3.8/site-packages/nltk/translate/bleu_score.py:552: UserWarning: \n",
      "The hypothesis contains 0 counts of 3-gram overlaps.\n",
      "Therefore the BLEU score evaluates to 0, independently of\n",
      "how many N-gram overlaps of lower order it contains.\n",
      "Consider using lower n-gram order or use SmoothingFunction()\n",
      "  warnings.warn(_msg)\n",
      "/Users/israela/anaconda3/envs/orca/lib/python3.8/site-packages/nltk/translate/bleu_score.py:552: UserWarning: \n",
      "The hypothesis contains 0 counts of 4-gram overlaps.\n",
      "Therefore the BLEU score evaluates to 0, independently of\n",
      "how many N-gram overlaps of lower order it contains.\n",
      "Consider using lower n-gram order or use SmoothingFunction()\n",
      "  warnings.warn(_msg)\n"
     ]
    },
    {
     "name": "stdout",
     "output_type": "stream",
     "text": [
      " sentence bleu : 1.5815494491217338e-232\n",
      "SacreBLEU score: 4.268747783147747e-05\n",
      "corpus_chrf score: 3.3893762157185545\n",
      "Rogue results: {'rouge1': 0.031107525316718367, 'rouge2': 0.0011435635914078194, 'rougeL': 0.03108188324232678, 'rougeLsum': 0.030865245762617895}\n"
     ]
    }
   ],
   "source": [
    "calculate_bleu_score(data.ouptput.values.tolist(), data.response.values.tolist())\n"
   ]
  },
  {
   "cell_type": "code",
   "execution_count": null,
   "metadata": {},
   "outputs": [],
   "source": []
  },
  {
   "cell_type": "code",
   "execution_count": null,
   "metadata": {},
   "outputs": [],
   "source": []
  }
 ],
 "metadata": {
  "kernelspec": {
   "display_name": "Python 3",
   "language": "python",
   "name": "python3"
  },
  "language_info": {
   "codemirror_mode": {
    "name": "ipython",
    "version": 3
   },
   "file_extension": ".py",
   "mimetype": "text/x-python",
   "name": "python",
   "nbconvert_exporter": "python",
   "pygments_lexer": "ipython3",
   "version": "3.8.18"
  }
 },
 "nbformat": 4,
 "nbformat_minor": 2
}
