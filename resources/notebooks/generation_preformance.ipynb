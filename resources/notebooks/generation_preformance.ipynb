{
 "cells": [
  {
   "cell_type": "code",
   "execution_count": 36,
   "metadata": {},
   "outputs": [
    {
     "name": "stderr",
     "output_type": "stream",
     "text": [
      "Downloading builder script: 100%|██████████| 6.27k/6.27k [00:00<00:00, 5.80MB/s]\n",
      "Downloading builder script: 100%|██████████| 8.15k/8.15k [00:00<00:00, 9.39MB/s]\n",
      "Downloading builder script: 100%|██████████| 9.01k/9.01k [00:00<00:00, 5.50MB/s]\n",
      "tokenizer_config.json: 100%|██████████| 745/745 [00:00<00:00, 317kB/s]\n",
      "tokenizer.model: 100%|██████████| 899k/899k [00:00<00:00, 6.62MB/s]\n",
      "tokenizer.json: 100%|██████████| 1.84M/1.84M [00:00<00:00, 4.17MB/s]\n",
      "special_tokens_map.json: 100%|██████████| 411/411 [00:00<00:00, 654kB/s]\n"
     ]
    }
   ],
   "source": [
    "import nltk\n",
    "from nltk.translate.bleu_score import sentence_bleu\n",
    "from typing import List\n",
    "import pandas as pd\n",
    "import sacrebleu\n",
    "from rouge_score import rouge_scorer\n",
    "import evaluate\n",
    "from rouge_score import rouge_scorer\n",
    "\n",
    "\n",
    "rouge = evaluate.load('rouge')\n",
    "sacrebleu = evaluate.load(\"sacrebleu\")\n",
    "chrf = evaluate.load(\"chrf\")\n",
    "\n",
    "\n",
    "from transformers import AutoTokenizer, AutoModelForCausalLM\n",
    "\n",
    "tokenizer = AutoTokenizer.from_pretrained(\"iocuydi/llama-2-amharic-3784m\")"
   ]
  },
  {
   "cell_type": "code",
   "execution_count": 37,
   "metadata": {},
   "outputs": [],
   "source": [
    "# d = pd.read_csv('./amharic_title_generation/gpt4_responses-amharic_title_generation.csv').input.values.tolist()\n"
   ]
  },
  {
   "cell_type": "code",
   "execution_count": 50,
   "metadata": {},
   "outputs": [
    {
     "data": {
      "text/html": [
       "<div>\n",
       "<style scoped>\n",
       "    .dataframe tbody tr th:only-of-type {\n",
       "        vertical-align: middle;\n",
       "    }\n",
       "\n",
       "    .dataframe tbody tr th {\n",
       "        vertical-align: top;\n",
       "    }\n",
       "\n",
       "    .dataframe thead th {\n",
       "        text-align: right;\n",
       "    }\n",
       "</style>\n",
       "<table border=\"1\" class=\"dataframe\">\n",
       "  <thead>\n",
       "    <tr style=\"text-align: right;\">\n",
       "      <th></th>\n",
       "      <th>instruction</th>\n",
       "      <th>input</th>\n",
       "      <th>ouptput</th>\n",
       "      <th>datasource</th>\n",
       "      <th>response</th>\n",
       "    </tr>\n",
       "  </thead>\n",
       "  <tbody>\n",
       "    <tr>\n",
       "      <th>1295</th>\n",
       "      <td>የሚቀጥለው ዜና አርእስት ፃፍ</td>\n",
       "      <td>መጋቢት የምስሉ መግለጫ ጠቅላይ ሚኒስትር ቴሬዛ ሜይ የብሔራዊ ደህንነት ም...</td>\n",
       "      <td>ጠ ሚ ሜይ ሞስኮ በሰላዩ መመረዝ ጉዳይ አስተያየት መስጠት አለባት ብለዋል</td>\n",
       "      <td>amharic_title_generation</td>\n",
       "      <td>ትዮጵያ ከኮሮናቫይረስ የሚሞቱት ሰዎች ቁጥር ወደ 385 ወጥቶ</td>\n",
       "    </tr>\n",
       "    <tr>\n",
       "      <th>1296</th>\n",
       "      <td>የሚቀጥለው ዜና አርእስት ፃፍ</td>\n",
       "      <td>ነሐሴ ይህ ፕሮጀክት የተጀመረው እንደ ቀልድ ነበር። ጓደኛሞች በጋራ ሰብሰ...</td>\n",
       "      <td>አፍሪካዊው ወጣት ለወባ በሽታ መፍትሄ ይዞ መጥቷል</td>\n",
       "      <td>amharic_title_generation</td>\n",
       "      <td>ይን ነይ ሁኔታ ተመለሰ። ይህንን ለማፈራረስ የታዘዙ ምርመ</td>\n",
       "    </tr>\n",
       "    <tr>\n",
       "      <th>1297</th>\n",
       "      <td>የሚቀጥለው ዜና አርእስት ፃፍ</td>\n",
       "      <td>ወደድንም ጠላንም ዶናልድ ትራምፕ ስልጣን ላይ ከወጡ አንድ አመት ሞልቷቸዋ...</td>\n",
       "      <td>ወደድንም ጠላንም ዶናልድ ትራምፕ ስልጣን ላይ ከወጡ አንድ አመት ሞልቷቸዋል።</td>\n",
       "      <td>amharic_title_generation</td>\n",
       "      <td>ዶናልድ ትራምፕ የሚኒስቴር በጠቅላይ ሚኒስቴር ማእከል ተሰርዮ ከሆኑት ስሙ...</td>\n",
       "    </tr>\n",
       "    <tr>\n",
       "      <th>1298</th>\n",
       "      <td>የሚቀጥለው ዜና አርእስት ፃፍ</td>\n",
       "      <td>ጥቅምት የፎቶው ባለመብት የትራምፕ አስተዳደር በሜክሲኮ እና በአሜሪካ መካ...</td>\n",
       "      <td>ትራምፕ ስደተኞችን ለማባረር አዲስ ዕቅድ እያቀዱ ነው</td>\n",
       "      <td>amharic_title_generation</td>\n",
       "      <td>በሚቀጥለው ዜና አርእስት ፃፍ:\\n\\nአሜሪካ ፕሬዚደንት ዶናልድ ትራምፕ በ...</td>\n",
       "    </tr>\n",
       "    <tr>\n",
       "      <th>1299</th>\n",
       "      <td>የሚቀጥለው ዜና አርእስት ፃፍ</td>\n",
       "      <td>መስከረም የፎቶው ባለመብት እብዱ የአሜሪካ ፕሬዝዳንት ትራምፕ ለሰሜን ኮሪ...</td>\n",
       "      <td>ኪም ጆንግ ኡን ፡ እብዱ ትራምፕ የኑክሊዬር መርሃ ግብርን አስፈላጊነት አ...</td>\n",
       "      <td>amharic_title_generation</td>\n",
       "      <td>መትከል ይጠበቃል። በአገሪቱ መቀየሪያዎች የሚዘረጋው በ</td>\n",
       "    </tr>\n",
       "  </tbody>\n",
       "</table>\n",
       "</div>"
      ],
      "text/plain": [
       "             instruction                                              input  \\\n",
       "1295  የሚቀጥለው ዜና አርእስት ፃፍ  መጋቢት የምስሉ መግለጫ ጠቅላይ ሚኒስትር ቴሬዛ ሜይ የብሔራዊ ደህንነት ም...   \n",
       "1296  የሚቀጥለው ዜና አርእስት ፃፍ  ነሐሴ ይህ ፕሮጀክት የተጀመረው እንደ ቀልድ ነበር። ጓደኛሞች በጋራ ሰብሰ...   \n",
       "1297  የሚቀጥለው ዜና አርእስት ፃፍ  ወደድንም ጠላንም ዶናልድ ትራምፕ ስልጣን ላይ ከወጡ አንድ አመት ሞልቷቸዋ...   \n",
       "1298  የሚቀጥለው ዜና አርእስት ፃፍ  ጥቅምት የፎቶው ባለመብት የትራምፕ አስተዳደር በሜክሲኮ እና በአሜሪካ መካ...   \n",
       "1299  የሚቀጥለው ዜና አርእስት ፃፍ  መስከረም የፎቶው ባለመብት እብዱ የአሜሪካ ፕሬዝዳንት ትራምፕ ለሰሜን ኮሪ...   \n",
       "\n",
       "                                                ouptput  \\\n",
       "1295     ጠ ሚ ሜይ ሞስኮ በሰላዩ መመረዝ ጉዳይ አስተያየት መስጠት አለባት ብለዋል   \n",
       "1296                    አፍሪካዊው ወጣት ለወባ በሽታ መፍትሄ ይዞ መጥቷል   \n",
       "1297   ወደድንም ጠላንም ዶናልድ ትራምፕ ስልጣን ላይ ከወጡ አንድ አመት ሞልቷቸዋል።   \n",
       "1298                  ትራምፕ ስደተኞችን ለማባረር አዲስ ዕቅድ እያቀዱ ነው   \n",
       "1299  ኪም ጆንግ ኡን ፡ እብዱ ትራምፕ የኑክሊዬር መርሃ ግብርን አስፈላጊነት አ...   \n",
       "\n",
       "                    datasource  \\\n",
       "1295  amharic_title_generation   \n",
       "1296  amharic_title_generation   \n",
       "1297  amharic_title_generation   \n",
       "1298  amharic_title_generation   \n",
       "1299  amharic_title_generation   \n",
       "\n",
       "                                               response  \n",
       "1295             ትዮጵያ ከኮሮናቫይረስ የሚሞቱት ሰዎች ቁጥር ወደ 385 ወጥቶ  \n",
       "1296               ይን ነይ ሁኔታ ተመለሰ። ይህንን ለማፈራረስ የታዘዙ ምርመ  \n",
       "1297  ዶናልድ ትራምፕ የሚኒስቴር በጠቅላይ ሚኒስቴር ማእከል ተሰርዮ ከሆኑት ስሙ...  \n",
       "1298  በሚቀጥለው ዜና አርእስት ፃፍ:\\n\\nአሜሪካ ፕሬዚደንት ዶናልድ ትራምፕ በ...  \n",
       "1299                 መትከል ይጠበቃል። በአገሪቱ መቀየሪያዎች የሚዘረጋው በ  "
      ]
     },
     "execution_count": 50,
     "metadata": {},
     "output_type": "execute_result"
    }
   ],
   "source": [
    "\n",
    "data = pd.read_csv('./amharic_title_generation/gpt4_responses-amharic_title_generation.csv')\n",
    "# print(data.Datasource.value_counts())\n",
    "data.tail()"
   ]
  },
  {
   "cell_type": "code",
   "execution_count": 53,
   "metadata": {},
   "outputs": [
    {
     "data": {
      "text/html": [
       "<div>\n",
       "<style scoped>\n",
       "    .dataframe tbody tr th:only-of-type {\n",
       "        vertical-align: middle;\n",
       "    }\n",
       "\n",
       "    .dataframe tbody tr th {\n",
       "        vertical-align: top;\n",
       "    }\n",
       "\n",
       "    .dataframe thead th {\n",
       "        text-align: right;\n",
       "    }\n",
       "</style>\n",
       "<table border=\"1\" class=\"dataframe\">\n",
       "  <thead>\n",
       "    <tr style=\"text-align: right;\">\n",
       "      <th></th>\n",
       "      <th>instruction</th>\n",
       "      <th>input</th>\n",
       "      <th>ouptput</th>\n",
       "      <th>datasource</th>\n",
       "      <th>response</th>\n",
       "    </tr>\n",
       "  </thead>\n",
       "  <tbody>\n",
       "    <tr>\n",
       "      <th>1295</th>\n",
       "      <td>የሚቀጥለው ዜና አርእስት ፃፍ</td>\n",
       "      <td>መጋቢት የምስሉ መግለጫ ጠቅላይ ሚኒስትር ቴሬዛ ሜይ የብሔራዊ ደህንነት ም...</td>\n",
       "      <td>ጠ ሚ ሜይ ሞስኮ በሰላዩ መመረዝ ጉዳይ አስተያየት መስጠት አለባት ብለዋል</td>\n",
       "      <td>amharic_title_generation</td>\n",
       "      <td>ትዮጵያ ከኮሮናቫይረስ የሚሞቱት ሰዎች ቁጥር ወደ 385 ወጥቶ</td>\n",
       "    </tr>\n",
       "    <tr>\n",
       "      <th>1296</th>\n",
       "      <td>የሚቀጥለው ዜና አርእስት ፃፍ</td>\n",
       "      <td>ነሐሴ ይህ ፕሮጀክት የተጀመረው እንደ ቀልድ ነበር። ጓደኛሞች በጋራ ሰብሰ...</td>\n",
       "      <td>አፍሪካዊው ወጣት ለወባ በሽታ መፍትሄ ይዞ መጥቷል</td>\n",
       "      <td>amharic_title_generation</td>\n",
       "      <td>ይን ነይ ሁኔታ ተመለሰ። ይህንን ለማፈራረስ የታዘዙ ምርመ</td>\n",
       "    </tr>\n",
       "    <tr>\n",
       "      <th>1297</th>\n",
       "      <td>የሚቀጥለው ዜና አርእስት ፃፍ</td>\n",
       "      <td>ወደድንም ጠላንም ዶናልድ ትራምፕ ስልጣን ላይ ከወጡ አንድ አመት ሞልቷቸዋ...</td>\n",
       "      <td>ወደድንም ጠላንም ዶናልድ ትራምፕ ስልጣን ላይ ከወጡ አንድ አመት ሞልቷቸዋል።</td>\n",
       "      <td>amharic_title_generation</td>\n",
       "      <td>ዶናልድ ትራምፕ የሚኒስቴር በጠቅላይ ሚኒስቴር ማእከል ተሰርዮ ከሆኑት ስሙ...</td>\n",
       "    </tr>\n",
       "    <tr>\n",
       "      <th>1298</th>\n",
       "      <td>የሚቀጥለው ዜና አርእስት ፃፍ</td>\n",
       "      <td>ጥቅምት የፎቶው ባለመብት የትራምፕ አስተዳደር በሜክሲኮ እና በአሜሪካ መካ...</td>\n",
       "      <td>ትራምፕ ስደተኞችን ለማባረር አዲስ ዕቅድ እያቀዱ ነው</td>\n",
       "      <td>amharic_title_generation</td>\n",
       "      <td>በሚቀጥለው ዜና አርእስት ፃፍ:\\n\\nአሜሪካ ፕሬዚደንት ዶናልድ ትራምፕ በ...</td>\n",
       "    </tr>\n",
       "    <tr>\n",
       "      <th>1299</th>\n",
       "      <td>የሚቀጥለው ዜና አርእስት ፃፍ</td>\n",
       "      <td>መስከረም የፎቶው ባለመብት እብዱ የአሜሪካ ፕሬዝዳንት ትራምፕ ለሰሜን ኮሪ...</td>\n",
       "      <td>ኪም ጆንግ ኡን ፡ እብዱ ትራምፕ የኑክሊዬር መርሃ ግብርን አስፈላጊነት አ...</td>\n",
       "      <td>amharic_title_generation</td>\n",
       "      <td>መትከል ይጠበቃል። በአገሪቱ መቀየሪያዎች የሚዘረጋው በ</td>\n",
       "    </tr>\n",
       "  </tbody>\n",
       "</table>\n",
       "</div>"
      ],
      "text/plain": [
       "             instruction                                              input  \\\n",
       "1295  የሚቀጥለው ዜና አርእስት ፃፍ  መጋቢት የምስሉ መግለጫ ጠቅላይ ሚኒስትር ቴሬዛ ሜይ የብሔራዊ ደህንነት ም...   \n",
       "1296  የሚቀጥለው ዜና አርእስት ፃፍ  ነሐሴ ይህ ፕሮጀክት የተጀመረው እንደ ቀልድ ነበር። ጓደኛሞች በጋራ ሰብሰ...   \n",
       "1297  የሚቀጥለው ዜና አርእስት ፃፍ  ወደድንም ጠላንም ዶናልድ ትራምፕ ስልጣን ላይ ከወጡ አንድ አመት ሞልቷቸዋ...   \n",
       "1298  የሚቀጥለው ዜና አርእስት ፃፍ  ጥቅምት የፎቶው ባለመብት የትራምፕ አስተዳደር በሜክሲኮ እና በአሜሪካ መካ...   \n",
       "1299  የሚቀጥለው ዜና አርእስት ፃፍ  መስከረም የፎቶው ባለመብት እብዱ የአሜሪካ ፕሬዝዳንት ትራምፕ ለሰሜን ኮሪ...   \n",
       "\n",
       "                                                ouptput  \\\n",
       "1295     ጠ ሚ ሜይ ሞስኮ በሰላዩ መመረዝ ጉዳይ አስተያየት መስጠት አለባት ብለዋል   \n",
       "1296                    አፍሪካዊው ወጣት ለወባ በሽታ መፍትሄ ይዞ መጥቷል   \n",
       "1297   ወደድንም ጠላንም ዶናልድ ትራምፕ ስልጣን ላይ ከወጡ አንድ አመት ሞልቷቸዋል።   \n",
       "1298                  ትራምፕ ስደተኞችን ለማባረር አዲስ ዕቅድ እያቀዱ ነው   \n",
       "1299  ኪም ጆንግ ኡን ፡ እብዱ ትራምፕ የኑክሊዬር መርሃ ግብርን አስፈላጊነት አ...   \n",
       "\n",
       "                    datasource  \\\n",
       "1295  amharic_title_generation   \n",
       "1296  amharic_title_generation   \n",
       "1297  amharic_title_generation   \n",
       "1298  amharic_title_generation   \n",
       "1299  amharic_title_generation   \n",
       "\n",
       "                                               response  \n",
       "1295             ትዮጵያ ከኮሮናቫይረስ የሚሞቱት ሰዎች ቁጥር ወደ 385 ወጥቶ  \n",
       "1296               ይን ነይ ሁኔታ ተመለሰ። ይህንን ለማፈራረስ የታዘዙ ምርመ  \n",
       "1297  ዶናልድ ትራምፕ የሚኒስቴር በጠቅላይ ሚኒስቴር ማእከል ተሰርዮ ከሆኑት ስሙ...  \n",
       "1298  በሚቀጥለው ዜና አርእስት ፃፍ:\\n\\nአሜሪካ ፕሬዚደንት ዶናልድ ትራምፕ በ...  \n",
       "1299                 መትከል ይጠበቃል። በአገሪቱ መቀየሪያዎች የሚዘረጋው በ  "
      ]
     },
     "execution_count": 53,
     "metadata": {},
     "output_type": "execute_result"
    }
   ],
   "source": [
    "data=data[data.datasource==\"amharic_title_generation\"]\n",
    "# data.drop_duplicates(subset='Input Text', keep=\"last\")\n",
    "# data = data.head(1300)\n",
    "data = data.fillna('')\n",
    "data.tail()"
   ]
  },
  {
   "cell_type": "code",
   "execution_count": 40,
   "metadata": {},
   "outputs": [
    {
     "name": "stderr",
     "output_type": "stream",
     "text": [
      "[nltk_data] Error loading punkt: <urlopen error [SSL:\n",
      "[nltk_data]     CERTIFICATE_VERIFY_FAILED] certificate verify failed\n",
      "[nltk_data]     (_ssl.c:1131)>\n"
     ]
    },
    {
     "data": {
      "text/plain": [
       "False"
      ]
     },
     "execution_count": 40,
     "metadata": {},
     "output_type": "execute_result"
    }
   ],
   "source": [
    "nltk.download('punkt')"
   ]
  },
  {
   "cell_type": "code",
   "execution_count": 43,
   "metadata": {},
   "outputs": [],
   "source": [
    "def calculate_bleu_score(references: List[List[str]], candidates: List[str]) -> float:\n",
    "    scores = []\n",
    "    for ref, cand in zip(references, candidates):\n",
    "        candidate_tokens = nltk.word_tokenize(cand)\n",
    "        reference_tokens = [nltk.word_tokenize(r) for r in ref]\n",
    "        \n",
    "        score = sentence_bleu(reference_tokens, candidate_tokens)\n",
    "        scores.append(score)\n",
    "\n",
    "    \n",
    "    print(f\" sentence bleu : {sum(scores) / len(scores) if scores else 0}\")\n",
    "\n",
    "    bleu = sacrebleu.compute(predictions=candidates, references=references)\n",
    "    print(f\"SacreBLEU score: {bleu}\")\n",
    "\n",
    "    chr = chrf.compute(predictions=candidates, references=references, word_order=2)\n",
    "    print(f\"corpus_chrf score: {chr}\")\n",
    "\n",
    "    results = rouge.compute(predictions=candidates, references=references)\n",
    "    print(f\"Rogue results: {results}\")\n",
    "\n",
    "    # scorer = rouge_scorer.RougeScorer(['rouge1', 'rougeL'], use_stemmer=True)\n",
    "    # scores = scorer.score(candidates,references)\n",
    "    # print(score)\n",
    "\n",
    "   \n",
    "\n",
    "\n",
    "\n"
   ]
  },
  {
   "cell_type": "code",
   "execution_count": 44,
   "metadata": {},
   "outputs": [
    {
     "name": "stdout",
     "output_type": "stream",
     "text": [
      " sentence bleu : 4.327470820988156e-233\n",
      "SacreBLEU score: {'score': 0.03064286031726817, 'counts': [577, 37, 10, 5], 'totals': [112427, 107476, 102549, 97705], 'precisions': [0.5132219128856947, 0.034426290520674384, 0.009751435898936118, 0.005117445371270662], 'bp': 1.0, 'sys_len': 112427, 'ref_len': 40130}\n",
      "corpus_chrf score: {'score': 5.636147328468981, 'char_order': 6, 'word_order': 2, 'beta': 2}\n",
      "Rogue results: {'rouge1': 0.0, 'rouge2': 0.0, 'rougeL': 0.0, 'rougeLsum': 0.0}\n"
     ]
    }
   ],
   "source": [
    "calculate_bleu_score(data.gold_label.values.tolist(), data.response.values.tolist())\n"
   ]
  },
  {
   "cell_type": "code",
   "execution_count": null,
   "metadata": {},
   "outputs": [],
   "source": []
  }
 ],
 "metadata": {
  "kernelspec": {
   "display_name": "Python 3",
   "language": "python",
   "name": "python3"
  },
  "language_info": {
   "codemirror_mode": {
    "name": "ipython",
    "version": 3
   },
   "file_extension": ".py",
   "mimetype": "text/x-python",
   "name": "python",
   "nbconvert_exporter": "python",
   "pygments_lexer": "ipython3",
   "version": "3.8.18"
  }
 },
 "nbformat": 4,
 "nbformat_minor": 2
}
