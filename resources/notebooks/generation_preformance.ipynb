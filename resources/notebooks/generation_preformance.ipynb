{
 "cells": [
  {
   "cell_type": "code",
   "execution_count": 3,
   "metadata": {},
   "outputs": [],
   "source": [
    "import nltk\n",
    "from nltk.translate.bleu_score import sentence_bleu\n",
    "from typing import List\n",
    "import pandas as pd"
   ]
  },
  {
   "cell_type": "code",
   "execution_count": 5,
   "metadata": {},
   "outputs": [
    {
     "data": {
      "text/html": [
       "<div>\n",
       "<style scoped>\n",
       "    .dataframe tbody tr th:only-of-type {\n",
       "        vertical-align: middle;\n",
       "    }\n",
       "\n",
       "    .dataframe tbody tr th {\n",
       "        vertical-align: top;\n",
       "    }\n",
       "\n",
       "    .dataframe thead th {\n",
       "        text-align: right;\n",
       "    }\n",
       "</style>\n",
       "<table border=\"1\" class=\"dataframe\">\n",
       "  <thead>\n",
       "    <tr style=\"text-align: right;\">\n",
       "      <th></th>\n",
       "      <th>instruction</th>\n",
       "      <th>input</th>\n",
       "      <th>ouptput</th>\n",
       "      <th>datasource</th>\n",
       "      <th>response</th>\n",
       "    </tr>\n",
       "  </thead>\n",
       "  <tbody>\n",
       "    <tr>\n",
       "      <th>0</th>\n",
       "      <td>ይህን አረፍተ ነገር በደምብ ተመልክተህ ሰም፣ ቦታ፣ እመተ ምህረት ወይም ...</td>\n",
       "      <td>በአንፃሩ ሁሉ ሰላም እንደነበር የሌንዱ ጎሳ ቃል አቀባይ ፍራንስዋ ዳዳ ገ...</td>\n",
       "      <td>ፍራንስዋ ዳዳ</td>\n",
       "      <td>masakhaner</td>\n",
       "      <td>ሰም: ሌንዱ ጎሳ\\nቦታ: ፍራንስ\\nእመተ ምህረት: በአንፃሩ ሁሉ ሰላም እ...</td>\n",
       "    </tr>\n",
       "    <tr>\n",
       "      <th>1</th>\n",
       "      <td>ይህን አረፍተ ነገር በደምብ ተመልክተህ ሰም፣ ቦታ፣ እመተ ምህረት ወይም ...</td>\n",
       "      <td>ጊዜ ራሱ በጎሳዎቹ መካከል ያለው ልዩነት እንዲቆም ድርሻ አበርክቶዋል ።</td>\n",
       "      <td>ስም አልተገኘም</td>\n",
       "      <td>masakhaner</td>\n",
       "      <td>1. 'ጊዜ': እሷ የምትጠራቀመው ነገር ጊዜ ነው፡፡\\n   \\n2. 'በጎሳ...</td>\n",
       "    </tr>\n",
       "    <tr>\n",
       "      <th>2</th>\n",
       "      <td>ይህን አረፍተ ነገር በደምብ ተመልክተህ ሰም፣ ቦታ፣ እመተ ምህረት ወይም ...</td>\n",
       "      <td>ጦርነት እስከሌለ ድረስ ሕዝቡ ባለፉት ዓመታት የደረሰበትን በደል ረስቶዋል ።</td>\n",
       "      <td>ባለፉት ዓመታት</td>\n",
       "      <td>masakhaner</td>\n",
       "      <td>1. ሰም: ጦርነት የሌለበት ሁኔታ\\n2. ቦታ: በድረመረጃ ያልተገለጸ ትን...</td>\n",
       "    </tr>\n",
       "    <tr>\n",
       "      <th>3</th>\n",
       "      <td>ይህን አረፍተ ነገር በደምብ ተመልክተህ ሰም፣ ቦታ፣ እመተ ምህረት ወይም ...</td>\n",
       "      <td>ይህንን ብንልም ግን በደስታ እንፈነድቃለን ማለት አይደለም ምክንያቱም ከሳ...</td>\n",
       "      <td>ስም አልተገኘም</td>\n",
       "      <td>masakhaner</td>\n",
       "      <td>ሰም: በደስታ\\nቦታ: በሳሾች\\nእመተ ምህረት: መላሽ\\nሠአት: አልነበርንም</td>\n",
       "    </tr>\n",
       "    <tr>\n",
       "      <th>4</th>\n",
       "      <td>ይህን አረፍተ ነገር በደምብ ተመልክተህ ሰም፣ ቦታ፣ እመተ ምህረት ወይም ...</td>\n",
       "      <td>ምንም እንኳን የትኛውም ከባድ ቅጣት የግዳጁ ምልመላ ሰለባ የሆኑት ሕፃናት...</td>\n",
       "      <td>ስም አልተገኘም</td>\n",
       "      <td>masakhaner</td>\n",
       "      <td>ከዚህ አረፍተ ነገር በፈረሰነው አስተማሪ ምልከታ ላይ:\\n\\n- ሰም: ሕፃ...</td>\n",
       "    </tr>\n",
       "  </tbody>\n",
       "</table>\n",
       "</div>"
      ],
      "text/plain": [
       "                                         instruction  \\\n",
       "0  ይህን አረፍተ ነገር በደምብ ተመልክተህ ሰም፣ ቦታ፣ እመተ ምህረት ወይም ...   \n",
       "1  ይህን አረፍተ ነገር በደምብ ተመልክተህ ሰም፣ ቦታ፣ እመተ ምህረት ወይም ...   \n",
       "2  ይህን አረፍተ ነገር በደምብ ተመልክተህ ሰም፣ ቦታ፣ እመተ ምህረት ወይም ...   \n",
       "3  ይህን አረፍተ ነገር በደምብ ተመልክተህ ሰም፣ ቦታ፣ እመተ ምህረት ወይም ...   \n",
       "4  ይህን አረፍተ ነገር በደምብ ተመልክተህ ሰም፣ ቦታ፣ እመተ ምህረት ወይም ...   \n",
       "\n",
       "                                               input    ouptput  datasource  \\\n",
       "0  በአንፃሩ ሁሉ ሰላም እንደነበር የሌንዱ ጎሳ ቃል አቀባይ ፍራንስዋ ዳዳ ገ...   ፍራንስዋ ዳዳ  masakhaner   \n",
       "1      ጊዜ ራሱ በጎሳዎቹ መካከል ያለው ልዩነት እንዲቆም ድርሻ አበርክቶዋል ።  ስም አልተገኘም  masakhaner   \n",
       "2   ጦርነት እስከሌለ ድረስ ሕዝቡ ባለፉት ዓመታት የደረሰበትን በደል ረስቶዋል ።  ባለፉት ዓመታት  masakhaner   \n",
       "3  ይህንን ብንልም ግን በደስታ እንፈነድቃለን ማለት አይደለም ምክንያቱም ከሳ...  ስም አልተገኘም  masakhaner   \n",
       "4  ምንም እንኳን የትኛውም ከባድ ቅጣት የግዳጁ ምልመላ ሰለባ የሆኑት ሕፃናት...  ስም አልተገኘም  masakhaner   \n",
       "\n",
       "                                            response  \n",
       "0  ሰም: ሌንዱ ጎሳ\\nቦታ: ፍራንስ\\nእመተ ምህረት: በአንፃሩ ሁሉ ሰላም እ...  \n",
       "1  1. 'ጊዜ': እሷ የምትጠራቀመው ነገር ጊዜ ነው፡፡\\n   \\n2. 'በጎሳ...  \n",
       "2  1. ሰም: ጦርነት የሌለበት ሁኔታ\\n2. ቦታ: በድረመረጃ ያልተገለጸ ትን...  \n",
       "3    ሰም: በደስታ\\nቦታ: በሳሾች\\nእመተ ምህረት: መላሽ\\nሠአት: አልነበርንም  \n",
       "4  ከዚህ አረፍተ ነገር በፈረሰነው አስተማሪ ምልከታ ላይ:\\n\\n- ሰም: ሕፃ...  "
      ]
     },
     "execution_count": 5,
     "metadata": {},
     "output_type": "execute_result"
    }
   ],
   "source": [
    "data = pd.read_csv('../Gpt-4/masakhaner/gpt4_responses-masakhaner.csv')\n",
    "data.head()"
   ]
  },
  {
   "cell_type": "code",
   "execution_count": 6,
   "metadata": {},
   "outputs": [
    {
     "name": "stderr",
     "output_type": "stream",
     "text": [
      "[nltk_data] Downloading package punkt to /Users/israela/nltk_data...\n",
      "[nltk_data]   Package punkt is already up-to-date!\n"
     ]
    },
    {
     "data": {
      "text/plain": [
       "True"
      ]
     },
     "execution_count": 6,
     "metadata": {},
     "output_type": "execute_result"
    }
   ],
   "source": [
    "nltk.download('punkt')"
   ]
  },
  {
   "cell_type": "code",
   "execution_count": 7,
   "metadata": {},
   "outputs": [],
   "source": [
    "def calculate_bleu_score(references: List[List[str]], candidates: List[str]) -> float:\n",
    "    scores = []\n",
    "    for ref, cand in zip(references, candidates):\n",
    "        candidate_tokens = nltk.word_tokenize(cand)\n",
    "        reference_tokens = [nltk.word_tokenize(r) for r in ref]\n",
    "        \n",
    "        score = sentence_bleu(reference_tokens, candidate_tokens)\n",
    "        scores.append(score)\n",
    "    \n",
    "    return sum(scores) / len(scores) if scores else 0\n"
   ]
  },
  {
   "cell_type": "code",
   "execution_count": 9,
   "metadata": {},
   "outputs": [
    {
     "name": "stderr",
     "output_type": "stream",
     "text": [
      "/Users/israela/anaconda3/envs/orca/lib/python3.8/site-packages/nltk/translate/bleu_score.py:552: UserWarning: \n",
      "The hypothesis contains 0 counts of 2-gram overlaps.\n",
      "Therefore the BLEU score evaluates to 0, independently of\n",
      "how many N-gram overlaps of lower order it contains.\n",
      "Consider using lower n-gram order or use SmoothingFunction()\n",
      "  warnings.warn(_msg)\n",
      "/Users/israela/anaconda3/envs/orca/lib/python3.8/site-packages/nltk/translate/bleu_score.py:552: UserWarning: \n",
      "The hypothesis contains 0 counts of 3-gram overlaps.\n",
      "Therefore the BLEU score evaluates to 0, independently of\n",
      "how many N-gram overlaps of lower order it contains.\n",
      "Consider using lower n-gram order or use SmoothingFunction()\n",
      "  warnings.warn(_msg)\n",
      "/Users/israela/anaconda3/envs/orca/lib/python3.8/site-packages/nltk/translate/bleu_score.py:552: UserWarning: \n",
      "The hypothesis contains 0 counts of 4-gram overlaps.\n",
      "Therefore the BLEU score evaluates to 0, independently of\n",
      "how many N-gram overlaps of lower order it contains.\n",
      "Consider using lower n-gram order or use SmoothingFunction()\n",
      "  warnings.warn(_msg)\n"
     ]
    },
    {
     "data": {
      "text/plain": [
       "6.401732851081193e-233"
      ]
     },
     "execution_count": 9,
     "metadata": {},
     "output_type": "execute_result"
    }
   ],
   "source": [
    "average_bleu_score = calculate_bleu_score(data.ouptput.values.tolist(), data.response.values.tolist())\n",
    "average_bleu_score"
   ]
  },
  {
   "cell_type": "code",
   "execution_count": null,
   "metadata": {},
   "outputs": [],
   "source": []
  }
 ],
 "metadata": {
  "kernelspec": {
   "display_name": "Python 3",
   "language": "python",
   "name": "python3"
  },
  "language_info": {
   "codemirror_mode": {
    "name": "ipython",
    "version": 3
   },
   "file_extension": ".py",
   "mimetype": "text/x-python",
   "name": "python",
   "nbconvert_exporter": "python",
   "pygments_lexer": "ipython3",
   "version": "3.8.18"
  }
 },
 "nbformat": 4,
 "nbformat_minor": 2
}
