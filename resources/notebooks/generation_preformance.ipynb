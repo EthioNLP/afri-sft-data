{
 "cells": [
  {
   "cell_type": "code",
   "execution_count": 16,
   "metadata": {},
   "outputs": [],
   "source": [
    "import pandas as pd\n",
    "import difflib"
   ]
  },
  {
   "cell_type": "code",
   "execution_count": 17,
   "metadata": {},
   "outputs": [
    {
     "data": {
      "text/html": [
       "<div>\n",
       "<style scoped>\n",
       "    .dataframe tbody tr th:only-of-type {\n",
       "        vertical-align: middle;\n",
       "    }\n",
       "\n",
       "    .dataframe tbody tr th {\n",
       "        vertical-align: top;\n",
       "    }\n",
       "\n",
       "    .dataframe thead th {\n",
       "        text-align: right;\n",
       "    }\n",
       "</style>\n",
       "<table border=\"1\" class=\"dataframe\">\n",
       "  <thead>\n",
       "    <tr style=\"text-align: right;\">\n",
       "      <th></th>\n",
       "      <th>instruction</th>\n",
       "      <th>input</th>\n",
       "      <th>ouptput</th>\n",
       "      <th>datasource</th>\n",
       "      <th>response</th>\n",
       "    </tr>\n",
       "  </thead>\n",
       "  <tbody>\n",
       "    <tr>\n",
       "      <th>0</th>\n",
       "      <td>የተሰጠው ጽሑፍ አስተያየት ምን አይነት ነው? \"አዎንታዊ\"፣ \"አሉታዊ\" ወ...</td>\n",
       "      <td>'@user ክብር እና ምስጋና ለዓለማት ፈጣሪ ይሁን'</td>\n",
       "      <td>አዎንታዊ</td>\n",
       "      <td>afrisent</td>\n",
       "      <td>ይህ የተሰጠው ጽሑፍ ዐዎንታዊ አስተያየት ነው።</td>\n",
       "    </tr>\n",
       "    <tr>\n",
       "      <th>1</th>\n",
       "      <td>የተሰጠው ጽሑፍ አስተያየት ምን አይነት ነው? \"አዎንታዊ\"፣ \"አሉታዊ\" ወ...</td>\n",
       "      <td>'ከህወሓት ጋር ድርድር ማለት ኢትዮጲያን ማፍረስ ዕቁብ መጣል ነው። #No...</td>\n",
       "      <td>አሉታዊ</td>\n",
       "      <td>afrisent</td>\n",
       "      <td>ጽሑፉ አሉታዊ አስተያየት ነው።</td>\n",
       "    </tr>\n",
       "    <tr>\n",
       "      <th>2</th>\n",
       "      <td>የተሰጠው ጽሑፍ አስተያየት ምን አይነት ነው? \"አዎንታዊ\"፣ \"አሉታዊ\" ወ...</td>\n",
       "      <td>'እግዚአብሔር የተመሰገነ ይሁን ኢትዮጵያ አሸነፈች ። እንኳን ደስአለኝ ።'</td>\n",
       "      <td>አዎንታዊ</td>\n",
       "      <td>afrisent</td>\n",
       "      <td>ይህ ጽሑፍ \"አዎንታዊ\" አስተያየት ነው።</td>\n",
       "    </tr>\n",
       "    <tr>\n",
       "      <th>3</th>\n",
       "      <td>የተሰጠው ጽሑፍ አስተያየት ምን አይነት ነው? \"አዎንታዊ\"፣ \"አሉታዊ\" ወ...</td>\n",
       "      <td>'ይህንን ካዩ እባክዎን ከእኔ ጋር ሶስት ያድርጉ'</td>\n",
       "      <td>ገለልተኛ</td>\n",
       "      <td>afrisent</td>\n",
       "      <td>ይህ አስተያየት \"አሉታዊ\" ነው።</td>\n",
       "    </tr>\n",
       "    <tr>\n",
       "      <th>4</th>\n",
       "      <td>የተሰጠው ጽሑፍ አስተያየት ምን አይነት ነው? \"አዎንታዊ\"፣ \"አሉታዊ\" ወ...</td>\n",
       "      <td>'@user ሲሆን ሲሆን ወንድ ትወልጅያለሽ ሳይሆ ሳይሆን ሴት ትወልጃለሽ ...</td>\n",
       "      <td>አሉታዊ</td>\n",
       "      <td>afrisent</td>\n",
       "      <td>የተሰጠው ምላሽ \"ገለልተኛ\" ነው።</td>\n",
       "    </tr>\n",
       "  </tbody>\n",
       "</table>\n",
       "</div>"
      ],
      "text/plain": [
       "                                         instruction  \\\n",
       "0  የተሰጠው ጽሑፍ አስተያየት ምን አይነት ነው? \"አዎንታዊ\"፣ \"አሉታዊ\" ወ...   \n",
       "1  የተሰጠው ጽሑፍ አስተያየት ምን አይነት ነው? \"አዎንታዊ\"፣ \"አሉታዊ\" ወ...   \n",
       "2  የተሰጠው ጽሑፍ አስተያየት ምን አይነት ነው? \"አዎንታዊ\"፣ \"አሉታዊ\" ወ...   \n",
       "3  የተሰጠው ጽሑፍ አስተያየት ምን አይነት ነው? \"አዎንታዊ\"፣ \"አሉታዊ\" ወ...   \n",
       "4  የተሰጠው ጽሑፍ አስተያየት ምን አይነት ነው? \"አዎንታዊ\"፣ \"አሉታዊ\" ወ...   \n",
       "\n",
       "                                               input ouptput datasource  \\\n",
       "0                  '@user ክብር እና ምስጋና ለዓለማት ፈጣሪ ይሁን'   አዎንታዊ   afrisent   \n",
       "1  'ከህወሓት ጋር ድርድር ማለት ኢትዮጲያን ማፍረስ ዕቁብ መጣል ነው። #No...    አሉታዊ   afrisent   \n",
       "2    'እግዚአብሔር የተመሰገነ ይሁን ኢትዮጵያ አሸነፈች ። እንኳን ደስአለኝ ።'   አዎንታዊ   afrisent   \n",
       "3                    'ይህንን ካዩ እባክዎን ከእኔ ጋር ሶስት ያድርጉ'   ገለልተኛ   afrisent   \n",
       "4  '@user ሲሆን ሲሆን ወንድ ትወልጅያለሽ ሳይሆ ሳይሆን ሴት ትወልጃለሽ ...    አሉታዊ   afrisent   \n",
       "\n",
       "                        response  \n",
       "0  ይህ የተሰጠው ጽሑፍ ዐዎንታዊ አስተያየት ነው።  \n",
       "1            ጽሑፉ አሉታዊ አስተያየት ነው።  \n",
       "2      ይህ ጽሑፍ \"አዎንታዊ\" አስተያየት ነው።  \n",
       "3           ይህ አስተያየት \"አሉታዊ\" ነው።  \n",
       "4          የተሰጠው ምላሽ \"ገለልተኛ\" ነው።  "
      ]
     },
     "execution_count": 17,
     "metadata": {},
     "output_type": "execute_result"
    }
   ],
   "source": [
    "data = pd.read_csv('../Gpt-4/afrisent/gpt4_responses-afrisent.csv')\n",
    "data.head()"
   ]
  },
  {
   "cell_type": "code",
   "execution_count": 18,
   "metadata": {},
   "outputs": [],
   "source": [
    "def string_similarity(str1, str2):\n",
    "    return difflib.SequenceMatcher(None, str1, str2).ratio()\n",
    "\n",
    "def isin_metrics(str1,str2):\n",
    "    return str1 in str2"
   ]
  },
  {
   "cell_type": "code",
   "execution_count": 19,
   "metadata": {},
   "outputs": [],
   "source": [
    "for index, row in data.iterrows():\n",
    "    similarity = string_similarity(row['ouptput'], row['response'])\n"
   ]
  },
  {
   "cell_type": "code",
   "execution_count": 20,
   "metadata": {},
   "outputs": [
    {
     "data": {
      "text/plain": [
       "0.25806451612903225"
      ]
     },
     "execution_count": 20,
     "metadata": {},
     "output_type": "execute_result"
    }
   ],
   "source": [
    "similarity"
   ]
  },
  {
   "cell_type": "code",
   "execution_count": 21,
   "metadata": {},
   "outputs": [
    {
     "data": {
      "text/plain": [
       "['አዎንታዊ', 'አሉታዊ', 'ገለልተኛ', 'nothing_predicted']"
      ]
     },
     "execution_count": 21,
     "metadata": {},
     "output_type": "execute_result"
    }
   ],
   "source": [
    "unique_classes = data.ouptput.unique().tolist()\n",
    "unique_classes += [\"nothing_predicted\"]\n",
    "unique_classes"
   ]
  },
  {
   "cell_type": "code",
   "execution_count": 22,
   "metadata": {},
   "outputs": [],
   "source": [
    "classes = {class_name:index for index,class_name in enumerate(unique_classes)}\n",
    "y_true = []\n",
    "y_pred = []\n",
    "\n",
    "\n"
   ]
  },
  {
   "cell_type": "code",
   "execution_count": 23,
   "metadata": {},
   "outputs": [],
   "source": [
    "for index, row in data.iterrows():\n",
    "    y_true.append(classes[row['ouptput']])\n",
    "    output = [isin_metrics(str1,row['response']) for str1 in classes.keys()]\n",
    "    \n",
    "    if True in output:\n",
    "        y_pred.append(output.index(True))\n",
    "    else:\n",
    "        # TODO : how should we handle in the case where we dont find any of the classes\n",
    "        y_pred.append(classes['nothing_predicted'])\n"
   ]
  },
  {
   "cell_type": "code",
   "execution_count": 24,
   "metadata": {},
   "outputs": [
    {
     "name": "stdout",
     "output_type": "stream",
     "text": [
      "                   precision    recall  f1-score   support\n",
      "\n",
      "            አዎንታዊ       0.28      0.67      0.40       438\n",
      "             አሉታዊ       0.76      0.33      0.46      1337\n",
      "            ገለልተኛ       0.18      0.27      0.22       224\n",
      "nothing_predicted       0.00      0.00      0.00         0\n",
      "\n",
      "         accuracy                           0.40      1999\n",
      "        macro avg       0.31      0.32      0.27      1999\n",
      "     weighted avg       0.59      0.40      0.42      1999\n",
      "\n"
     ]
    },
    {
     "name": "stderr",
     "output_type": "stream",
     "text": [
      "/Users/israela/anaconda3/envs/orca/lib/python3.8/site-packages/sklearn/metrics/_classification.py:1471: UndefinedMetricWarning: Recall and F-score are ill-defined and being set to 0.0 in labels with no true samples. Use `zero_division` parameter to control this behavior.\n",
      "  _warn_prf(average, modifier, msg_start, len(result))\n",
      "/Users/israela/anaconda3/envs/orca/lib/python3.8/site-packages/sklearn/metrics/_classification.py:1471: UndefinedMetricWarning: Recall and F-score are ill-defined and being set to 0.0 in labels with no true samples. Use `zero_division` parameter to control this behavior.\n",
      "  _warn_prf(average, modifier, msg_start, len(result))\n",
      "/Users/israela/anaconda3/envs/orca/lib/python3.8/site-packages/sklearn/metrics/_classification.py:1471: UndefinedMetricWarning: Recall and F-score are ill-defined and being set to 0.0 in labels with no true samples. Use `zero_division` parameter to control this behavior.\n",
      "  _warn_prf(average, modifier, msg_start, len(result))\n"
     ]
    }
   ],
   "source": [
    "from sklearn.metrics import classification_report\n",
    "print(classification_report(y_true, y_pred, target_names=classes.keys()))"
   ]
  },
  {
   "cell_type": "code",
   "execution_count": null,
   "metadata": {},
   "outputs": [],
   "source": []
  }
 ],
 "metadata": {
  "kernelspec": {
   "display_name": "Python 3",
   "language": "python",
   "name": "python3"
  },
  "language_info": {
   "codemirror_mode": {
    "name": "ipython",
    "version": 3
   },
   "file_extension": ".py",
   "mimetype": "text/x-python",
   "name": "python",
   "nbconvert_exporter": "python",
   "pygments_lexer": "ipython3",
   "version": "3.8.18"
  }
 },
 "nbformat": 4,
 "nbformat_minor": 2
}
